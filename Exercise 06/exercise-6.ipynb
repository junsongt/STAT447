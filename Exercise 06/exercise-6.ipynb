{
 "cells": [
  {
   "cell_type": "code",
   "execution_count": 4,
   "metadata": {
    "vscode": {
     "languageId": "r"
    }
   },
   "outputs": [],
   "source": [
    "library(ggplot2)\n",
    "suppressPackageStartupMessages(library(extraDistr))\n",
    "suppressPackageStartupMessages(library(distr))\n",
    "source(\"./simple.R\")\n",
    "source(\"./simple_utils.R\")\n",
    "set.seed(2025)\n"
   ]
  },
  {
   "cell_type": "markdown",
   "metadata": {},
   "source": [
    "### Q1: efficacy of vaccines"
   ]
  },
  {
   "cell_type": "code",
   "execution_count": null,
   "metadata": {
    "vscode": {
     "languageId": "r"
    }
   },
   "outputs": [],
   "source": [
    "# 2\n",
    "BetaMP = function(mean, precision){\n",
    "  Beta(mean*precision, (1-mean)*precision)\n",
    "}\n",
    "\n",
    "ppl_fn = function() {\n",
    "    mu_e = simulate(Unif(0,1))\n",
    "    lam_e = simulate(Exp(rate = 0.01))\n",
    "    mu_p = simulate(BetaMP(0.1, 15))\n",
    "    lam_p = simulate(Exp(rate = 0.01))\n",
    "    e = simulate(BetaMP(mu_e, lam_e))\n",
    "    p = simulate(BetaMP(mu_p, lam_p))\n",
    "    observe(realization = 162,distribution = Binom(p, 18325))\n",
    "\n",
    "}"
   ]
  },
  {
   "cell_type": "code",
   "execution_count": 2,
   "metadata": {
    "vscode": {
     "languageId": "r"
    }
   },
   "outputs": [],
   "source": [
    "# 3\n",
    "vaccines = read.csv(\"./vaccines.csv\")\n",
    "vaccines$groupSizes = as.double(vaccines$groupSizes) # needed due to bug in Binom code"
   ]
  }
 ],
 "metadata": {
  "kernelspec": {
   "display_name": "R",
   "language": "R",
   "name": "ir"
  },
  "language_info": {
   "codemirror_mode": "r",
   "file_extension": ".r",
   "mimetype": "text/x-r-source",
   "name": "R",
   "pygments_lexer": "r",
   "version": "4.3.2"
  }
 },
 "nbformat": 4,
 "nbformat_minor": 2
}
