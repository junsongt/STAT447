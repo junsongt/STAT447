{
 "cells": [
  {
   "cell_type": "code",
   "execution_count": 4,
   "metadata": {
    "vscode": {
     "languageId": "r"
    }
   },
   "outputs": [],
   "source": [
    "library(ggplot2)\n",
    "suppressPackageStartupMessages(library(extraDistr))\n",
    "suppressPackageStartupMessages(library(distr))\n",
    "source(\"./simple.R\")\n",
    "source(\"./simple_utils.R\")\n",
    "set.seed(2025)\n"
   ]
  },
  {
   "cell_type": "markdown",
   "metadata": {},
   "source": [
    "### Q1: efficacy of vaccines"
   ]
  },
  {
   "cell_type": "code",
   "execution_count": null,
   "metadata": {
    "vscode": {
     "languageId": "r"
    }
   },
   "outputs": [],
   "source": [
    "# 2\n",
    "BetaMP = function(mean, precision){\n",
    "  Beta(mean*precision, (1-mean)*precision)\n",
    "}\n",
    "\n",
    "ppl_fn = function() {\n",
    "    mu_e = simulate(Unif(0,1))\n",
    "    lam_e = simulate(Exp(rate = 0.01))\n",
    "    mu_p = simulate(BetaMP(0.1, 15))\n",
    "    lam_p = simulate(Exp(rate = 0.01))\n",
    "    # Pfizer\n",
    "    e_pfizer = simulate(BetaMP(mu_e, lam_e))\n",
    "    p_pfizer = simulate(BetaMP(mu_p, lam_p))\n",
    "    observe(realization = 162, distribution = Binom(prob=p_pfizer, size=18325)) # n_c\n",
    "    observe(realization = 8, distribution = Binom(prob=p_pfizer*(1 - e_pfizer), size=18198)) # n_v\n",
    "    # Moderna\n",
    "    e_moderna = simulate(BetaMP(mu_e, lam_e))\n",
    "    p_moderna = simulate(BetaMP(mu_p, lam_p))\n",
    "    observe(realization = 185, distribution = Binom(prob=p_moderna, size=14073)) # n_c\n",
    "    observe(realization = 11, distribution = Binom(prob=p_moderna*(1 - e_moderna), size=14134)) # n_v\n",
    "    return (ifelse(e_moderna > e_pfizer, 1, 0))\n",
    "}"
   ]
  },
  {
   "cell_type": "code",
   "execution_count": 16,
   "metadata": {
    "vscode": {
     "languageId": "r"
    }
   },
   "outputs": [],
   "source": [
    "# 3\n",
    "vaccines = read.csv(\"./vaccines.csv\")\n",
    "vaccines$groupSizes = as.double(vaccines$groupSizes) # needed due to bug in Binom code"
   ]
  },
  {
   "cell_type": "code",
   "execution_count": 17,
   "metadata": {
    "vscode": {
     "languageId": "r"
    }
   },
   "outputs": [
    {
     "data": {
      "text/html": [
       "0.0636724506919168"
      ],
      "text/latex": [
       "0.0636724506919168"
      ],
      "text/markdown": [
       "0.0636724506919168"
      ],
      "text/plain": [
       "[1] 0.06367245"
      ]
     },
     "metadata": {},
     "output_type": "display_data"
    }
   ],
   "source": [
    "# 4\n",
    "posterior(ppl_fn, 10000)"
   ]
  }
 ],
 "metadata": {
  "kernelspec": {
   "display_name": "R",
   "language": "R",
   "name": "ir"
  },
  "language_info": {
   "codemirror_mode": "r",
   "file_extension": ".r",
   "mimetype": "text/x-r-source",
   "name": "R",
   "pygments_lexer": "r",
   "version": "4.3.2"
  }
 },
 "nbformat": 4,
 "nbformat_minor": 2
}
