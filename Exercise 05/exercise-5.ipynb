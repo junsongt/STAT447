{
 "cells": [
  {
   "cell_type": "code",
   "execution_count": 39,
   "metadata": {
    "vscode": {
     "languageId": "r"
    }
   },
   "outputs": [],
   "source": [
    "library(ggplot2)\n",
    "suppressPackageStartupMessages(library(extraDistr))\n",
    "suppressPackageStartupMessages(library(distr))\n",
    "source(\"./simple.R\")\n",
    "source(\"./simple_utils.R\")\n",
    "set.seed(2024)\n",
    "K = 20"
   ]
  },
  {
   "cell_type": "markdown",
   "metadata": {},
   "source": [
    "### Q2"
   ]
  },
  {
   "cell_type": "code",
   "execution_count": 40,
   "metadata": {
    "vscode": {
     "languageId": "r"
    }
   },
   "outputs": [],
   "source": [
    "# 1\n",
    "posterior_distribution = function(rho, n_successes, n_observations) {\n",
    "  K = length(rho) - 1\n",
    "  gamma = rho * dbinom(n_successes, n_observations, (0:K)/K)\n",
    "  normalizing_constant = sum(gamma)\n",
    "  gamma/normalizing_constant\n",
    "}"
   ]
  },
  {
   "cell_type": "code",
   "execution_count": 41,
   "metadata": {
    "vscode": {
     "languageId": "r"
    }
   },
   "outputs": [],
   "source": [
    "# 2\n",
    "posterior_mean = function(post_dist) {\n",
    "    return (sum((seq(0, K, 1)/K) * post_dist))\n",
    "}"
   ]
  },
  {
   "cell_type": "code",
   "execution_count": 42,
   "metadata": {
    "vscode": {
     "languageId": "r"
    }
   },
   "outputs": [],
   "source": [
    "# 3\n",
    "simulate_posterior_mean_error = function(rho_true, rho_prior, n_observations){\n",
    "    dist_p = DiscreteDistribution(supp = (1/K)*(0:K), prob = rho_true/sum(rho_true))\n",
    "    p_true = simulate(dist_p)\n",
    "    Y = rep(simulate(Bern(p_true)), n_observations)\n",
    "    post_dist = posterior_distribution(rho_prior, sum(Y), n_observations)\n",
    "    post_mean = posterior_mean(post_dist)\n",
    "    return (abs(p_true - post_mean))\n",
    "}"
   ]
  },
  {
   "cell_type": "code",
   "execution_count": 43,
   "metadata": {
    "vscode": {
     "languageId": "r"
    }
   },
   "outputs": [
    {
     "data": {
      "text/html": [
       "<table class=\"dataframe\">\n",
       "<caption>A data.frame: 6 × 3</caption>\n",
       "<thead>\n",
       "\t<tr><th></th><th scope=col>n_observations</th><th scope=col>replication</th><th scope=col>errors</th></tr>\n",
       "\t<tr><th></th><th scope=col>&lt;dbl&gt;</th><th scope=col>&lt;int&gt;</th><th scope=col>&lt;dbl&gt;</th></tr>\n",
       "</thead>\n",
       "<tbody>\n",
       "\t<tr><th scope=row>1</th><td>1</td><td>1</td><td>0.075</td></tr>\n",
       "\t<tr><th scope=row>2</th><td>1</td><td>2</td><td>0.075</td></tr>\n",
       "\t<tr><th scope=row>3</th><td>1</td><td>3</td><td>0.075</td></tr>\n",
       "\t<tr><th scope=row>4</th><td>1</td><td>4</td><td>0.075</td></tr>\n",
       "\t<tr><th scope=row>5</th><td>1</td><td>5</td><td>0.075</td></tr>\n",
       "\t<tr><th scope=row>6</th><td>1</td><td>6</td><td>0.075</td></tr>\n",
       "</tbody>\n",
       "</table>\n"
      ],
      "text/latex": [
       "A data.frame: 6 × 3\n",
       "\\begin{tabular}{r|lll}\n",
       "  & n\\_observations & replication & errors\\\\\n",
       "  & <dbl> & <int> & <dbl>\\\\\n",
       "\\hline\n",
       "\t1 & 1 & 1 & 0.075\\\\\n",
       "\t2 & 1 & 2 & 0.075\\\\\n",
       "\t3 & 1 & 3 & 0.075\\\\\n",
       "\t4 & 1 & 4 & 0.075\\\\\n",
       "\t5 & 1 & 5 & 0.075\\\\\n",
       "\t6 & 1 & 6 & 0.075\\\\\n",
       "\\end{tabular}\n"
      ],
      "text/markdown": [
       "\n",
       "A data.frame: 6 × 3\n",
       "\n",
       "| <!--/--> | n_observations &lt;dbl&gt; | replication &lt;int&gt; | errors &lt;dbl&gt; |\n",
       "|---|---|---|---|\n",
       "| 1 | 1 | 1 | 0.075 |\n",
       "| 2 | 1 | 2 | 0.075 |\n",
       "| 3 | 1 | 3 | 0.075 |\n",
       "| 4 | 1 | 4 | 0.075 |\n",
       "| 5 | 1 | 5 | 0.075 |\n",
       "| 6 | 1 | 6 | 0.075 |\n",
       "\n"
      ],
      "text/plain": [
       "  n_observations replication errors\n",
       "1 1              1           0.075 \n",
       "2 1              2           0.075 \n",
       "3 1              3           0.075 \n",
       "4 1              4           0.075 \n",
       "5 1              5           0.075 \n",
       "6 1              6           0.075 "
      ]
     },
     "metadata": {},
     "output_type": "display_data"
    },
    {
     "data": {
      "text/html": [
       "<table class=\"dataframe\">\n",
       "<caption>A data.frame: 6 × 3</caption>\n",
       "<thead>\n",
       "\t<tr><th></th><th scope=col>n_observations</th><th scope=col>replication</th><th scope=col>errors</th></tr>\n",
       "\t<tr><th></th><th scope=col>&lt;dbl&gt;</th><th scope=col>&lt;int&gt;</th><th scope=col>&lt;dbl&gt;</th></tr>\n",
       "</thead>\n",
       "<tbody>\n",
       "\t<tr><th scope=row>6995</th><td>64</td><td> 995</td><td>0.4481699</td></tr>\n",
       "\t<tr><th scope=row>6996</th><td>64</td><td> 996</td><td>0.4481699</td></tr>\n",
       "\t<tr><th scope=row>6997</th><td>64</td><td> 997</td><td>0.4481699</td></tr>\n",
       "\t<tr><th scope=row>6998</th><td>64</td><td> 998</td><td>0.4481699</td></tr>\n",
       "\t<tr><th scope=row>6999</th><td>64</td><td> 999</td><td>0.4481699</td></tr>\n",
       "\t<tr><th scope=row>7000</th><td>64</td><td>1000</td><td>0.4481699</td></tr>\n",
       "</tbody>\n",
       "</table>\n"
      ],
      "text/latex": [
       "A data.frame: 6 × 3\n",
       "\\begin{tabular}{r|lll}\n",
       "  & n\\_observations & replication & errors\\\\\n",
       "  & <dbl> & <int> & <dbl>\\\\\n",
       "\\hline\n",
       "\t6995 & 64 &  995 & 0.4481699\\\\\n",
       "\t6996 & 64 &  996 & 0.4481699\\\\\n",
       "\t6997 & 64 &  997 & 0.4481699\\\\\n",
       "\t6998 & 64 &  998 & 0.4481699\\\\\n",
       "\t6999 & 64 &  999 & 0.4481699\\\\\n",
       "\t7000 & 64 & 1000 & 0.4481699\\\\\n",
       "\\end{tabular}\n"
      ],
      "text/markdown": [
       "\n",
       "A data.frame: 6 × 3\n",
       "\n",
       "| <!--/--> | n_observations &lt;dbl&gt; | replication &lt;int&gt; | errors &lt;dbl&gt; |\n",
       "|---|---|---|---|\n",
       "| 6995 | 64 |  995 | 0.4481699 |\n",
       "| 6996 | 64 |  996 | 0.4481699 |\n",
       "| 6997 | 64 |  997 | 0.4481699 |\n",
       "| 6998 | 64 |  998 | 0.4481699 |\n",
       "| 6999 | 64 |  999 | 0.4481699 |\n",
       "| 7000 | 64 | 1000 | 0.4481699 |\n",
       "\n"
      ],
      "text/plain": [
       "     n_observations replication errors   \n",
       "6995 64              995        0.4481699\n",
       "6996 64              996        0.4481699\n",
       "6997 64              997        0.4481699\n",
       "6998 64              998        0.4481699\n",
       "6999 64              999        0.4481699\n",
       "7000 64             1000        0.4481699"
      ]
     },
     "metadata": {},
     "output_type": "display_data"
    }
   ],
   "source": [
    "# 4\n",
    "rho_true = rho_prior = 1:(K+1)\n",
    "n_obs_vector <- 2^(0:6)\n",
    "experiment_results = data.frame()\n",
    "for (n_obs in n_obs_vector) {\n",
    "    errors = rep(simulate_posterior_mean_error(rho_true, rho_prior, n_obs), 1000)\n",
    "    df = data.frame(n_observations=rep(n_obs, 1000), replication=(1:1000), errors=errors)\n",
    "    experiment_results = rbind(experiment_results, df)\n",
    "}\n",
    "head(experiment_results)\n",
    "tail(experiment_results)\n"
   ]
  },
  {
   "cell_type": "code",
   "execution_count": 44,
   "metadata": {
    "vscode": {
     "languageId": "r"
    }
   },
   "outputs": [
    {
     "data": {
      "image/png": "[encoded data removed]",
      "text/plain": [
       "plot without title"
      ]
     },
     "metadata": {
      "image/png": {
       "height": 420,
       "width": 420
      }
     },
     "output_type": "display_data"
    }
   ],
   "source": [
    "# 5\n",
    "ggplot(experiment_results, aes(x=n_observations, y=errors+1e-9)) + # avoid log(0)\n",
    "  stat_summary(fun = mean, geom=\"line\") + # Line averages over 1000 replicates\n",
    "  scale_x_log10() +  # Show result in log-log scale\n",
    "  scale_y_log10(n.breaks=16) +\n",
    "  coord_cartesian(ylim = c(1e-3, 1)) +\n",
    "  theme_minimal() +\n",
    "  geom_point() +\n",
    "  labs(x = \"Number of observations\",\n",
    "       y = \"Absolute error of the posterior mean\")"
   ]
  },
  {
   "cell_type": "code",
   "execution_count": 50,
   "metadata": {
    "vscode": {
     "languageId": "r"
    }
   },
   "outputs": [
    {
     "data": {
      "text/html": [
       "0.283107649147326"
      ],
      "text/latex": [
       "0.283107649147326"
      ],
      "text/markdown": [
       "0.283107649147326"
      ],
      "text/plain": [
       "[1] 0.2831076"
      ]
     },
     "metadata": {},
     "output_type": "display_data"
    }
   ],
   "source": [
    "mean(experiment_results[experiment_results$n_observations==2^4, ]$errors)"
   ]
  },
  {
   "cell_type": "code",
   "execution_count": 49,
   "metadata": {
    "vscode": {
     "languageId": "r"
    }
   },
   "outputs": [
    {
     "data": {
      "text/html": [
       "0.331347444685983"
      ],
      "text/latex": [
       "0.331347444685983"
      ],
      "text/markdown": [
       "0.331347444685983"
      ],
      "text/plain": [
       "[1] 0.3313474"
      ]
     },
     "metadata": {},
     "output_type": "display_data"
    }
   ],
   "source": [
    "# 6\n",
    "y7 = mean(experiment_results[experiment_results$n_observations == 2^6, ]$errors)\n",
    "y5 = mean(experiment_results[experiment_results$n_observations==2^4, ]$errors)\n",
    "(log10(y7) - log10(y5)) / (log10(2^6) - log10(2^4))\n"
   ]
  },
  {
   "cell_type": "code",
   "execution_count": 45,
   "metadata": {
    "vscode": {
     "languageId": "r"
    }
   },
   "outputs": [],
   "source": [
    "# 7  \n",
    "rho_true = 1:(K+1)\n",
    "rho_prior = rep(1, K + 1)\n",
    "new_results = data.frame()\n",
    "for (n_obs in n_obs_vector) {\n",
    "    errors = rep(simulate_posterior_mean_error(rho_true, rho_prior, n_obs), 1000)\n",
    "    df = data.frame(n_observations = rep(n_obs, 1000), replication = (1:1000), errors = errors)\n",
    "    new_results = rbind(new_results, df)\n",
    "}\n",
    "\n",
    "new_results$prior_type = rep(\"Different\", 1000*length(n_obs_vector))\n",
    "\n",
    "experiment_results$prior_type = rep(\"Match\", 1000 * length(n_obs_vector))\n",
    "\n",
    "all_results = rbind(experiment_results, new_results)"
   ]
  },
  {
   "cell_type": "code",
   "execution_count": 46,
   "metadata": {
    "vscode": {
     "languageId": "r"
    }
   },
   "outputs": [
    {
     "data": {
      "image/png": "[encoded data removed]",
      "text/plain": [
       "plot without title"
      ]
     },
     "metadata": {
      "image/png": {
       "height": 420,
       "width": 420
      }
     },
     "output_type": "display_data"
    }
   ],
   "source": [
    "ggplot(all_results, aes(x=n_observations, y=errors+1e-9, # avoid log(0) \n",
    "                        color=prior_type, shape=prior_type)) + \n",
    "  stat_summary(fun = mean, geom=\"line\") + # Line averages over 1000 replicates\n",
    "  scale_x_log10() +  # Show result in log-log scale\n",
    "  scale_y_log10(n.breaks=16) +\n",
    "  coord_cartesian(ylim = c(1e-3, 1)) +\n",
    "  theme_minimal() +\n",
    "  geom_point() +\n",
    "  labs(x = \"Number of observations\",\n",
    "       y = \"Absolute error of the posterior mean\")"
   ]
  }
 ],
 "metadata": {
  "kernelspec": {
   "display_name": "R",
   "language": "R",
   "name": "ir"
  },
  "language_info": {
   "codemirror_mode": "r",
   "file_extension": ".r",
   "mimetype": "text/x-r-source",
   "name": "R",
   "pygments_lexer": "r",
   "version": "4.3.0"
  }
 },
 "nbformat": 4,
 "nbformat_minor": 2
}
