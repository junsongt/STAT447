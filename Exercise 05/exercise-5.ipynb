{
 "cells": [
  {
   "cell_type": "code",
   "execution_count": 2,
   "metadata": {
    "vscode": {
     "languageId": "r"
    }
   },
   "outputs": [
    {
     "name": "stderr",
     "output_type": "stream",
     "text": [
      "Warning message:\n",
      "\"package 'ggplot2' was built under R version 4.3.3\"\n",
      "Warning message:\n",
      "\"package 'extraDistr' was built under R version 4.3.3\"\n",
      "Warning message:\n",
      "\"package 'distr' was built under R version 4.3.3\"\n",
      "Warning message:\n",
      "\"package 'startupmsg' was built under R version 4.3.3\"\n",
      "Warning message:\n",
      "\"package 'sfsmisc' was built under R version 4.3.3\"\n"
     ]
    }
   ],
   "source": [
    "library(ggplot2)\n",
    "suppressPackageStartupMessages(library(extraDistr))\n",
    "suppressPackageStartupMessages(library(distr))\n",
    "source(\"./simple.R\")\n",
    "source(\"./simple_utils.R\")\n",
    "set.seed(2025)\n",
    "K = 20"
   ]
  },
  {
   "cell_type": "markdown",
   "metadata": {},
   "source": [
    "### Q2"
   ]
  },
  {
   "cell_type": "code",
   "execution_count": 3,
   "metadata": {
    "vscode": {
     "languageId": "r"
    }
   },
   "outputs": [],
   "source": [
    "# 1\n",
    "posterior_distribution = function(rho, n_successes, n_observations) {\n",
    "  K = length(rho) - 1\n",
    "  gamma = rho * dbinom(n_successes, n_observations, (0:K)/K)\n",
    "  normalizing_constant = sum(gamma)\n",
    "  gamma/normalizing_constant\n",
    "}"
   ]
  },
  {
   "cell_type": "code",
   "execution_count": 4,
   "metadata": {
    "vscode": {
     "languageId": "r"
    }
   },
   "outputs": [],
   "source": [
    "# 2\n",
    "posterior_mean = function(post_dist) {\n",
    "    return (sum((seq(0, K, 1)/K) * post_dist))\n",
    "}"
   ]
  },
  {
   "cell_type": "code",
   "execution_count": 5,
   "metadata": {
    "vscode": {
     "languageId": "r"
    }
   },
   "outputs": [
    {
     "data": {
      "text/html": [
       "<style>\n",
       ".list-inline {list-style: none; margin:0; padding: 0}\n",
       ".list-inline>li {display: inline-block}\n",
       ".list-inline>li:not(:last-child)::after {content: \"\\00b7\"; padding: 0 .5ex}\n",
       "</style>\n",
       "<ol class=list-inline><li>0</li><li>0.05</li><li>0.1</li><li>0.15</li><li>0.2</li><li>0.25</li><li>0.3</li><li>0.35</li><li>0.4</li><li>0.45</li><li>0.5</li><li>0.55</li><li>0.6</li><li>0.65</li><li>0.7</li><li>0.75</li><li>0.8</li><li>0.85</li><li>0.9</li><li>0.95</li><li>1</li></ol>\n"
      ],
      "text/latex": [
       "\\begin{enumerate*}\n",
       "\\item 0\n",
       "\\item 0.05\n",
       "\\item 0.1\n",
       "\\item 0.15\n",
       "\\item 0.2\n",
       "\\item 0.25\n",
       "\\item 0.3\n",
       "\\item 0.35\n",
       "\\item 0.4\n",
       "\\item 0.45\n",
       "\\item 0.5\n",
       "\\item 0.55\n",
       "\\item 0.6\n",
       "\\item 0.65\n",
       "\\item 0.7\n",
       "\\item 0.75\n",
       "\\item 0.8\n",
       "\\item 0.85\n",
       "\\item 0.9\n",
       "\\item 0.95\n",
       "\\item 1\n",
       "\\end{enumerate*}\n"
      ],
      "text/markdown": [
       "1. 0\n",
       "2. 0.05\n",
       "3. 0.1\n",
       "4. 0.15\n",
       "5. 0.2\n",
       "6. 0.25\n",
       "7. 0.3\n",
       "8. 0.35\n",
       "9. 0.4\n",
       "10. 0.45\n",
       "11. 0.5\n",
       "12. 0.55\n",
       "13. 0.6\n",
       "14. 0.65\n",
       "15. 0.7\n",
       "16. 0.75\n",
       "17. 0.8\n",
       "18. 0.85\n",
       "19. 0.9\n",
       "20. 0.95\n",
       "21. 1\n",
       "\n",
       "\n"
      ],
      "text/plain": [
       " [1] 0.00 0.05 0.10 0.15 0.20 0.25 0.30 0.35 0.40 0.45 0.50 0.55 0.60 0.65 0.70\n",
       "[16] 0.75 0.80 0.85 0.90 0.95 1.00"
      ]
     },
     "metadata": {},
     "output_type": "display_data"
    }
   ],
   "source": [
    "seq(0, K, 1)/K"
   ]
  },
  {
   "cell_type": "code",
   "execution_count": 6,
   "metadata": {
    "vscode": {
     "languageId": "r"
    }
   },
   "outputs": [
    {
     "data": {
      "text/html": [
       "<style>\n",
       ".list-inline {list-style: none; margin:0; padding: 0}\n",
       ".list-inline>li {display: inline-block}\n",
       ".list-inline>li:not(:last-child)::after {content: \"\\00b7\"; padding: 0 .5ex}\n",
       "</style>\n",
       "<ol class=list-inline><li>1</li><li>0</li><li>1</li><li>0</li></ol>\n"
      ],
      "text/latex": [
       "\\begin{enumerate*}\n",
       "\\item 1\n",
       "\\item 0\n",
       "\\item 1\n",
       "\\item 0\n",
       "\\end{enumerate*}\n"
      ],
      "text/markdown": [
       "1. 1\n",
       "2. 0\n",
       "3. 1\n",
       "4. 0\n",
       "\n",
       "\n"
      ],
      "text/plain": [
       "[1] 1 0 1 0"
      ]
     },
     "metadata": {},
     "output_type": "display_data"
    }
   ],
   "source": [
    "rho_true = rho_prior = 1:(K+1) \n",
    "dist_p = DiscreteDistribution(supp = (1 / K) * (0:K), prob = rho_true / sum(rho_true))\n",
    "p_true = simulate(dist_p)\n",
    "replicate(4, simulate(Bern(p_true)))"
   ]
  },
  {
   "cell_type": "code",
   "execution_count": 7,
   "metadata": {
    "vscode": {
     "languageId": "r"
    }
   },
   "outputs": [],
   "source": [
    "# 3\n",
    "simulate_posterior_mean_error = function(rho_true, rho_prior, n_observations){\n",
    "    dist_p = DiscreteDistribution(supp = (1/K)*(0:K), prob = rho_true/sum(rho_true))\n",
    "    p_true = simulate(dist_p)\n",
    "    # Y = rep(simulate(Bern(p_true)), n_observations)\n",
    "    Y = replicate(n_observations, simulate(Bern(p_true)))\n",
    "    post_dist = posterior_distribution(rho_prior, sum(Y), n_observations)\n",
    "    post_mean = posterior_mean(post_dist)\n",
    "    return (abs(p_true - post_mean))\n",
    "}"
   ]
  },
  {
   "cell_type": "code",
   "execution_count": 8,
   "metadata": {
    "vscode": {
     "languageId": "r"
    }
   },
   "outputs": [
    {
     "data": {
      "text/html": [
       "<table class=\"dataframe\">\n",
       "<caption>A data.frame: 6 × 3</caption>\n",
       "<thead>\n",
       "\t<tr><th></th><th scope=col>n_observations</th><th scope=col>replication</th><th scope=col>errors</th></tr>\n",
       "\t<tr><th></th><th scope=col>&lt;dbl&gt;</th><th scope=col>&lt;int&gt;</th><th scope=col>&lt;dbl&gt;</th></tr>\n",
       "</thead>\n",
       "<tbody>\n",
       "\t<tr><th scope=row>1</th><td>1</td><td>1</td><td>0.2250</td></tr>\n",
       "\t<tr><th scope=row>2</th><td>1</td><td>2</td><td>0.1875</td></tr>\n",
       "\t<tr><th scope=row>3</th><td>1</td><td>3</td><td>0.1125</td></tr>\n",
       "\t<tr><th scope=row>4</th><td>1</td><td>4</td><td>0.2750</td></tr>\n",
       "\t<tr><th scope=row>5</th><td>1</td><td>5</td><td>0.2375</td></tr>\n",
       "\t<tr><th scope=row>6</th><td>1</td><td>6</td><td>0.1250</td></tr>\n",
       "</tbody>\n",
       "</table>\n"
      ],
      "text/latex": [
       "A data.frame: 6 × 3\n",
       "\\begin{tabular}{r|lll}\n",
       "  & n\\_observations & replication & errors\\\\\n",
       "  & <dbl> & <int> & <dbl>\\\\\n",
       "\\hline\n",
       "\t1 & 1 & 1 & 0.2250\\\\\n",
       "\t2 & 1 & 2 & 0.1875\\\\\n",
       "\t3 & 1 & 3 & 0.1125\\\\\n",
       "\t4 & 1 & 4 & 0.2750\\\\\n",
       "\t5 & 1 & 5 & 0.2375\\\\\n",
       "\t6 & 1 & 6 & 0.1250\\\\\n",
       "\\end{tabular}\n"
      ],
      "text/markdown": [
       "\n",
       "A data.frame: 6 × 3\n",
       "\n",
       "| <!--/--> | n_observations &lt;dbl&gt; | replication &lt;int&gt; | errors &lt;dbl&gt; |\n",
       "|---|---|---|---|\n",
       "| 1 | 1 | 1 | 0.2250 |\n",
       "| 2 | 1 | 2 | 0.1875 |\n",
       "| 3 | 1 | 3 | 0.1125 |\n",
       "| 4 | 1 | 4 | 0.2750 |\n",
       "| 5 | 1 | 5 | 0.2375 |\n",
       "| 6 | 1 | 6 | 0.1250 |\n",
       "\n"
      ],
      "text/plain": [
       "  n_observations replication errors\n",
       "1 1              1           0.2250\n",
       "2 1              2           0.1875\n",
       "3 1              3           0.1125\n",
       "4 1              4           0.2750\n",
       "5 1              5           0.2375\n",
       "6 1              6           0.1250"
      ]
     },
     "metadata": {},
     "output_type": "display_data"
    },
    {
     "data": {
      "text/html": [
       "<table class=\"dataframe\">\n",
       "<caption>A data.frame: 6 × 3</caption>\n",
       "<thead>\n",
       "\t<tr><th></th><th scope=col>n_observations</th><th scope=col>replication</th><th scope=col>errors</th></tr>\n",
       "\t<tr><th></th><th scope=col>&lt;dbl&gt;</th><th scope=col>&lt;int&gt;</th><th scope=col>&lt;dbl&gt;</th></tr>\n",
       "</thead>\n",
       "<tbody>\n",
       "\t<tr><th scope=row>6995</th><td>64</td><td> 995</td><td>0.07163862</td></tr>\n",
       "\t<tr><th scope=row>6996</th><td>64</td><td> 996</td><td>0.05179766</td></tr>\n",
       "\t<tr><th scope=row>6997</th><td>64</td><td> 997</td><td>0.06694990</td></tr>\n",
       "\t<tr><th scope=row>6998</th><td>64</td><td> 998</td><td>0.03624271</td></tr>\n",
       "\t<tr><th scope=row>6999</th><td>64</td><td> 999</td><td>0.03815372</td></tr>\n",
       "\t<tr><th scope=row>7000</th><td>64</td><td>1000</td><td>0.02924495</td></tr>\n",
       "</tbody>\n",
       "</table>\n"
      ],
      "text/latex": [
       "A data.frame: 6 × 3\n",
       "\\begin{tabular}{r|lll}\n",
       "  & n\\_observations & replication & errors\\\\\n",
       "  & <dbl> & <int> & <dbl>\\\\\n",
       "\\hline\n",
       "\t6995 & 64 &  995 & 0.07163862\\\\\n",
       "\t6996 & 64 &  996 & 0.05179766\\\\\n",
       "\t6997 & 64 &  997 & 0.06694990\\\\\n",
       "\t6998 & 64 &  998 & 0.03624271\\\\\n",
       "\t6999 & 64 &  999 & 0.03815372\\\\\n",
       "\t7000 & 64 & 1000 & 0.02924495\\\\\n",
       "\\end{tabular}\n"
      ],
      "text/markdown": [
       "\n",
       "A data.frame: 6 × 3\n",
       "\n",
       "| <!--/--> | n_observations &lt;dbl&gt; | replication &lt;int&gt; | errors &lt;dbl&gt; |\n",
       "|---|---|---|---|\n",
       "| 6995 | 64 |  995 | 0.07163862 |\n",
       "| 6996 | 64 |  996 | 0.05179766 |\n",
       "| 6997 | 64 |  997 | 0.06694990 |\n",
       "| 6998 | 64 |  998 | 0.03624271 |\n",
       "| 6999 | 64 |  999 | 0.03815372 |\n",
       "| 7000 | 64 | 1000 | 0.02924495 |\n",
       "\n"
      ],
      "text/plain": [
       "     n_observations replication errors    \n",
       "6995 64              995        0.07163862\n",
       "6996 64              996        0.05179766\n",
       "6997 64              997        0.06694990\n",
       "6998 64              998        0.03624271\n",
       "6999 64              999        0.03815372\n",
       "7000 64             1000        0.02924495"
      ]
     },
     "metadata": {},
     "output_type": "display_data"
    }
   ],
   "source": [
    "# 4\n",
    "rho_true = rho_prior = 1:(K+1)\n",
    "n_obs_vector <- 2^(0:6)\n",
    "experiment_results = data.frame()\n",
    "for (n_obs in n_obs_vector) {\n",
    "    # errors = rep(simulate_posterior_mean_error(rho_true, rho_prior, n_obs), 1000)\n",
    "    errors = replicate(1000, simulate_posterior_mean_error(rho_true, rho_prior, n_obs))\n",
    "    df = data.frame(n_observations=rep(n_obs, 1000), replication=(1:1000), errors=errors)\n",
    "    experiment_results = rbind(experiment_results, df)\n",
    "}\n",
    "head(experiment_results)\n",
    "tail(experiment_results)\n"
   ]
  },
  {
   "cell_type": "code",
   "execution_count": 9,
   "metadata": {
    "vscode": {
     "languageId": "r"
    }
   },
   "outputs": [
    {
     "data": {
      "image/png": "[encoded data removed]",
      "text/plain": [
       "plot without title"
      ]
     },
     "metadata": {
      "image/png": {
       "height": 420,
       "width": 420
      }
     },
     "output_type": "display_data"
    }
   ],
   "source": [
    "# 5\n",
    "ggplot(experiment_results, aes(x=n_observations, y=errors+1e-9)) + # avoid log(0)\n",
    "  stat_summary(fun = mean, geom=\"line\") + # Line averages over 1000 replicates\n",
    "  scale_x_log10() +  # Show result in log-log scale\n",
    "  scale_y_log10(n.breaks=16) +\n",
    "  coord_cartesian(ylim = c(1e-3, 1)) +\n",
    "  theme_minimal() +\n",
    "  geom_point() +\n",
    "  labs(x = \"Number of observations\",\n",
    "       y = \"Absolute error of the posterior mean\")"
   ]
  },
  {
   "cell_type": "code",
   "execution_count": 14,
   "metadata": {
    "vscode": {
     "languageId": "r"
    }
   },
   "outputs": [
    {
     "data": {
      "text/html": [
       "-0.496968079903831"
      ],
      "text/latex": [
       "-0.496968079903831"
      ],
      "text/markdown": [
       "-0.496968079903831"
      ],
      "text/plain": [
       "[1] -0.4969681"
      ]
     },
     "metadata": {},
     "output_type": "display_data"
    }
   ],
   "source": [
    "# 6\n",
    "y7 = mean(experiment_results[experiment_results$n_observations == 2^6, ]$errors)\n",
    "y5 = mean(experiment_results[experiment_results$n_observations==2^4, ]$errors)\n",
    "(log10(y7) - log10(y5)) / (log10(2^6) - log10(2^4))\n"
   ]
  },
  {
   "cell_type": "code",
   "execution_count": 16,
   "metadata": {
    "vscode": {
     "languageId": "r"
    }
   },
   "outputs": [
    {
     "data": {
      "text/html": [
       "0.0370277725076914"
      ],
      "text/latex": [
       "0.0370277725076914"
      ],
      "text/markdown": [
       "0.0370277725076914"
      ],
      "text/plain": [
       "[1] 0.03702777"
      ]
     },
     "metadata": {},
     "output_type": "display_data"
    },
    {
     "data": {
      "text/html": [
       "0.073744932885478"
      ],
      "text/latex": [
       "0.073744932885478"
      ],
      "text/markdown": [
       "0.073744932885478"
      ],
      "text/plain": [
       "[1] 0.07374493"
      ]
     },
     "metadata": {},
     "output_type": "display_data"
    },
    {
     "data": {
      "text/html": [
       "0.502105989643974"
      ],
      "text/latex": [
       "0.502105989643974"
      ],
      "text/markdown": [
       "0.502105989643974"
      ],
      "text/plain": [
       "[1] 0.502106"
      ]
     },
     "metadata": {},
     "output_type": "display_data"
    },
    {
     "data": {
      "text/html": [
       "0.502105989643974"
      ],
      "text/latex": [
       "0.502105989643974"
      ],
      "text/markdown": [
       "0.502105989643974"
      ],
      "text/plain": [
       "[1] 0.502106"
      ]
     },
     "metadata": {},
     "output_type": "display_data"
    }
   ],
   "source": [
    "y7\n",
    "y5\n",
    "y7/y5\n",
    "2^(-0.496968079903831 * 2)"
   ]
  },
  {
   "cell_type": "code",
   "execution_count": null,
   "metadata": {
    "vscode": {
     "languageId": "r"
    }
   },
   "outputs": [],
   "source": [
    "# 7  \n",
    "rho_true = 1:(K+1)\n",
    "rho_prior = rep(1, K + 1)\n",
    "new_results = data.frame()\n",
    "for (n_obs in n_obs_vector) {\n",
    "    errors = replicate(1000, simulate_posterior_mean_error(rho_true, rho_prior, n_obs))\n",
    "    df = data.frame(n_observations = rep(n_obs, 1000), replication = (1:1000), errors = errors)\n",
    "    new_results = rbind(new_results, df)\n",
    "}\n",
    "new_results$prior_type = rep(\"Different\", 1000*length(n_obs_vector))\n",
    "experiment_results$prior_type = rep(\"Match\", 1000 * length(n_obs_vector))\n",
    "all_results = rbind(experiment_results, new_results)"
   ]
  },
  {
   "cell_type": "code",
   "execution_count": 13,
   "metadata": {
    "vscode": {
     "languageId": "r"
    }
   },
   "outputs": [
    {
     "data": {
      "image/png": "[encoded data removed]",
      "text/plain": [
       "plot without title"
      ]
     },
     "metadata": {
      "image/png": {
       "height": 420,
       "width": 420
      }
     },
     "output_type": "display_data"
    }
   ],
   "source": [
    "ggplot(all_results, aes(x=n_observations, y=errors+1e-9, # avoid log(0) \n",
    "                        color=prior_type, shape=prior_type)) + \n",
    "  stat_summary(fun = mean, geom=\"line\") + # Line averages over 1000 replicates\n",
    "  scale_x_log10() +  # Show result in log-log scale\n",
    "  scale_y_log10(n.breaks=16) +\n",
    "  coord_cartesian(ylim = c(1e-3, 1)) +\n",
    "  theme_minimal() +\n",
    "  geom_point() +\n",
    "  labs(x = \"Number of observations\",\n",
    "       y = \"Absolute error of the posterior mean\")"
   ]
  }
 ],
 "metadata": {
  "kernelspec": {
   "display_name": "R",
   "language": "R",
   "name": "ir"
  },
  "language_info": {
   "codemirror_mode": "r",
   "file_extension": ".r",
   "mimetype": "text/x-r-source",
   "name": "R",
   "pygments_lexer": "r",
   "version": "4.3.0"
  }
 },
 "nbformat": 4,
 "nbformat_minor": 2
}
