{
 "cells": [
  {
   "cell_type": "code",
   "execution_count": 4,
   "metadata": {
    "vscode": {
     "languageId": "r"
    }
   },
   "outputs": [],
   "source": [
    "suppressPackageStartupMessages(require(rstan))\n",
    "source(\"./simple.R\")\n",
    "source(\"./simple_utils.R\")\n",
    "set.seed(2024)"
   ]
  },
  {
   "cell_type": "code",
   "execution_count": null,
   "metadata": {
    "vscode": {
     "languageId": "r"
    }
   },
   "outputs": [],
   "source": [
    "data {\n",
    "  matrix[3,2] design_matrix; // number of successes\n",
    "  vector[3] observations;\n",
    "}\n",
    "\n",
    "parameters {\n",
    "  vector[2] coefficients;\n",
    "}\n",
    "\n",
    "model {\n",
    "  coefficients[1] ~ cauchy(0, 1);\n",
    "  coefficients[2] ~ cauchy(0, 1);\n",
    "  \n",
    "  for (i in 1:3) {\n",
    "    observations[i] ~ normal(design_matrix[i] * coefficients, 1);\n",
    "  }\n",
    "}"
   ]
  },
  {
   "cell_type": "code",
   "execution_count": null,
   "metadata": {
    "vscode": {
     "languageId": "r"
    }
   },
   "outputs": [],
   "source": [
    "matrix = rbind(\n",
    "  c(0.1, 0),\n",
    "  c(-0.3, 0),\n",
    "  c(0, 0)\n",
    ")\n",
    "obs = c(0.2, 0.1, -0.4)\n",
    "fit = sampling(\n",
    "  cauchy,\n",
    "  seed = 1,\n",
    "  refresh = 0,\n",
    "  data = list(design_matrix = matrix, observations = obs),        \n",
    "  iter = 10000                   \n",
    ")"
   ]
  },
  {
   "cell_type": "code",
   "execution_count": null,
   "metadata": {
    "vscode": {
     "languageId": "r"
    }
   },
   "outputs": [],
   "source": [
    "suppressPackageStartupMessages(require(bayesplot))\n",
    "suppressPackageStartupMessages(require(ggplot2))\n",
    "mcmc_trace(fit, pars = c(\"coefficients[1]\", \"coefficients[2]\")) + theme_minimal()"
   ]
  }
 ],
 "metadata": {
  "kernelspec": {
   "display_name": "R",
   "language": "R",
   "name": "ir"
  },
  "language_info": {
   "codemirror_mode": "r",
   "file_extension": ".r",
   "mimetype": "text/x-r-source",
   "name": "R",
   "pygments_lexer": "r",
   "version": "4.3.2"
  }
 },
 "nbformat": 4,
 "nbformat_minor": 2
}
