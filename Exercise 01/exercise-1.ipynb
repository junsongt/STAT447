{
 "cells": [
  {
   "cell_type": "code",
   "execution_count": 1,
   "metadata": {
    "vscode": {
     "languageId": "r"
    }
   },
   "outputs": [],
   "source": [
    "library(extraDistr)\n",
    "set.seed(2024)"
   ]
  },
  {
   "cell_type": "code",
   "execution_count": 2,
   "metadata": {
    "vscode": {
     "languageId": "r"
    }
   },
   "outputs": [
    {
     "data": {
      "text/html": [
       "2.16666666666667"
      ],
      "text/latex": [
       "2.16666666666667"
      ],
      "text/markdown": [
       "2.16666666666667"
      ],
      "text/plain": [
       "[1] 2.166667"
      ]
     },
     "metadata": {},
     "output_type": "display_data"
    }
   ],
   "source": [
    "# theoretical expectation\n",
    "X = c(0,1,2)\n",
    "Y = c(0,1)\n",
    "p_mtx = matrix(c(1,1/2,0,0,1/2,1), byrow = FALSE, nrow=3)\n",
    "sum = 0\n",
    "for (i in (1:length(X))) {\n",
    "    x = X[i]\n",
    "    for (j in (1:length(Y))) {\n",
    "        y = Y[j]\n",
    "        p = p_mtx[i,j]\n",
    "        sum = sum + (1+y)^x * p *(1/3)\n",
    "    }\n",
    "}\n",
    "sum"
   ]
  },
  {
   "cell_type": "code",
   "execution_count": 3,
   "metadata": {
    "vscode": {
     "languageId": "r"
    }
   },
   "outputs": [],
   "source": [
    "forward_sample = function() {\n",
    "    x = rdunif(1, 0, 2)\n",
    "    Y = rbinom(4, 1, x/2)\n",
    "    return (c(x, Y))\n",
    "}"
   ]
  },
  {
   "cell_type": "code",
   "execution_count": 4,
   "metadata": {
    "vscode": {
     "languageId": "r"
    }
   },
   "outputs": [
    {
     "data": {
      "text/html": [
       "<style>\n",
       ".list-inline {list-style: none; margin:0; padding: 0}\n",
       ".list-inline>li {display: inline-block}\n",
       ".list-inline>li:not(:last-child)::after {content: \"\\00b7\"; padding: 0 .5ex}\n",
       "</style>\n",
       "<ol class=list-inline><li>2</li><li>1</li><li>1</li><li>1</li><li>1</li></ol>\n"
      ],
      "text/latex": [
       "\\begin{enumerate*}\n",
       "\\item 2\n",
       "\\item 1\n",
       "\\item 1\n",
       "\\item 1\n",
       "\\item 1\n",
       "\\end{enumerate*}\n"
      ],
      "text/markdown": [
       "1. 2\n",
       "2. 1\n",
       "3. 1\n",
       "4. 1\n",
       "5. 1\n",
       "\n",
       "\n"
      ],
      "text/plain": [
       "[1] 2 1 1 1 1"
      ]
     },
     "metadata": {},
     "output_type": "display_data"
    }
   ],
   "source": [
    "forward_sample()"
   ]
  },
  {
   "cell_type": "code",
   "execution_count": 5,
   "metadata": {
    "vscode": {
     "languageId": "r"
    }
   },
   "outputs": [],
   "source": [
    "f_eval = function(v) {\n",
    "    return ((1 + v[2])^v[1])\n",
    "}"
   ]
  },
  {
   "cell_type": "code",
   "execution_count": 6,
   "metadata": {
    "vscode": {
     "languageId": "r"
    }
   },
   "outputs": [
    {
     "data": {
      "text/html": [
       "2.1703"
      ],
      "text/latex": [
       "2.1703"
      ],
      "text/markdown": [
       "2.1703"
      ],
      "text/plain": [
       "[1] 2.1703"
      ]
     },
     "metadata": {},
     "output_type": "display_data"
    }
   ],
   "source": [
    "mean(replicate(f_eval(forward_sample()), n = 100000))"
   ]
  },
  {
   "cell_type": "code",
   "execution_count": 7,
   "metadata": {
    "vscode": {
     "languageId": "r"
    }
   },
   "outputs": [],
   "source": [
    "posterior_given_four_heads = function(rho) {\n",
    "    K = length(rho)-1\n",
    "    # normalize rho\n",
    "    rho = rho / sum(rho)\n",
    "    posterior = NULL\n",
    "    sum = 0\n",
    "    for (k in (0 : K)) {\n",
    "        #joint p(Y, X = k)\n",
    "        p_k = (1-k/K)^4 * rho[k+1]\n",
    "        sum = sum + p_k\n",
    "        posterior = c(posterior, p_k)\n",
    "    }\n",
    "    # normalizing\n",
    "    posterior = posterior / sum\n",
    "    return (posterior)\n",
    "}"
   ]
  },
  {
   "cell_type": "code",
   "execution_count": 8,
   "metadata": {
    "vscode": {
     "languageId": "r"
    }
   },
   "outputs": [
    {
     "data": {
      "text/html": [
       "0"
      ],
      "text/latex": [
       "0"
      ],
      "text/markdown": [
       "0"
      ],
      "text/plain": [
       "[1] 0"
      ]
     },
     "metadata": {},
     "output_type": "display_data"
    }
   ],
   "source": [
    "posterior_given_four_heads(c(1/100,98/100,1/100))[2] - 98/114"
   ]
  },
  {
   "cell_type": "code",
   "execution_count": 9,
   "metadata": {
    "vscode": {
     "languageId": "r"
    }
   },
   "outputs": [
    {
     "data": {
      "text/html": [
       "<style>\n",
       ".list-inline {list-style: none; margin:0; padding: 0}\n",
       ".list-inline>li {display: inline-block}\n",
       ".list-inline>li:not(:last-child)::after {content: \"\\00b7\"; padding: 0 .5ex}\n",
       "</style>\n",
       "<ol class=list-inline><li>0.201845869866174</li><li>0.252022765728349</li><li>0.221596677434241</li><li>0.159483156437471</li><li>0.0961390555299185</li><li>0.0472542685740655</li><li>0.0174434702353484</li><li>0.00393785571450546</li><li>0.000276880479926166</li><li>0</li></ol>\n"
      ],
      "text/latex": [
       "\\begin{enumerate*}\n",
       "\\item 0.201845869866174\n",
       "\\item 0.252022765728349\n",
       "\\item 0.221596677434241\n",
       "\\item 0.159483156437471\n",
       "\\item 0.0961390555299185\n",
       "\\item 0.0472542685740655\n",
       "\\item 0.0174434702353484\n",
       "\\item 0.00393785571450546\n",
       "\\item 0.000276880479926166\n",
       "\\item 0\n",
       "\\end{enumerate*}\n"
      ],
      "text/markdown": [
       "1. 0.201845869866174\n",
       "2. 0.252022765728349\n",
       "3. 0.221596677434241\n",
       "4. 0.159483156437471\n",
       "5. 0.0961390555299185\n",
       "6. 0.0472542685740655\n",
       "7. 0.0174434702353484\n",
       "8. 0.00393785571450546\n",
       "9. 0.000276880479926166\n",
       "10. 0\n",
       "\n",
       "\n"
      ],
      "text/plain": [
       " [1] 0.2018458699 0.2520227657 0.2215966774 0.1594831564 0.0961390555\n",
       " [6] 0.0472542686 0.0174434702 0.0039378557 0.0002768805 0.0000000000"
      ]
     },
     "metadata": {},
     "output_type": "display_data"
    }
   ],
   "source": [
    "rho = seq(1,10,1)\n",
    "posterior_given_four_heads(rho)\n"
   ]
  },
  {
   "cell_type": "code",
   "execution_count": 10,
   "metadata": {
    "vscode": {
     "languageId": "r"
    }
   },
   "outputs": [],
   "source": [
    "posterior = function(rho, n_heads, n_observations) {\n",
    "  posterior = NULL\n",
    "  K = length(rho) - 1\n",
    "  # normalize rho\n",
    "  rho = rho / sum(rho)\n",
    "  sum = 0\n",
    "  for (k in (0:K)) {\n",
    "    p_k = dbinom(n_heads, n_observations, 1-k/K) * rho[k+1]\n",
    "    sum = sum + p_k\n",
    "    posterior = c(posterior, p_k)\n",
    "  }\n",
    "  # normalizing\n",
    "  posterior = posterior / sum\n",
    "  return (posterior)\n",
    "}"
   ]
  },
  {
   "cell_type": "code",
   "execution_count": 13,
   "metadata": {
    "vscode": {
     "languageId": "r"
    }
   },
   "outputs": [
    {
     "data": {
      "text/html": [
       "0"
      ],
      "text/latex": [
       "0"
      ],
      "text/markdown": [
       "0"
      ],
      "text/plain": [
       "[1] 0"
      ]
     },
     "metadata": {},
     "output_type": "display_data"
    }
   ],
   "source": [
    "rho = c(1,98,1)\n",
    "n_heads = 4\n",
    "n_observations = 4\n",
    "posterior(rho, n_heads, n_observations)[2] - 98/114"
   ]
  },
  {
   "cell_type": "code",
   "execution_count": 16,
   "metadata": {
    "vscode": {
     "languageId": "r"
    }
   },
   "outputs": [
    {
     "data": {
      "text/html": [
       "<style>\n",
       ".list-inline {list-style: none; margin:0; padding: 0}\n",
       ".list-inline>li {display: inline-block}\n",
       ".list-inline>li:not(:last-child)::after {content: \"\\00b7\"; padding: 0 .5ex}\n",
       "</style>\n",
       "<ol class=list-inline><li>0</li><li>2.62317159611434e-07</li><li>7.71212449257614e-05</li><li>0.00193619574473694</li><li>0.0167882982151318</li><li>0.0768507303549122</li><li>0.216853923410537</li><li>0.378051556011288</li><li>0.309441912701308</li><li>0</li></ol>\n"
      ],
      "text/latex": [
       "\\begin{enumerate*}\n",
       "\\item 0\n",
       "\\item 2.62317159611434e-07\n",
       "\\item 7.71212449257614e-05\n",
       "\\item 0.00193619574473694\n",
       "\\item 0.0167882982151318\n",
       "\\item 0.0768507303549122\n",
       "\\item 0.216853923410537\n",
       "\\item 0.378051556011288\n",
       "\\item 0.309441912701308\n",
       "\\item 0\n",
       "\\end{enumerate*}\n"
      ],
      "text/markdown": [
       "1. 0\n",
       "2. 2.62317159611434e-07\n",
       "3. 7.71212449257614e-05\n",
       "4. 0.00193619574473694\n",
       "5. 0.0167882982151318\n",
       "6. 0.0768507303549122\n",
       "7. 0.216853923410537\n",
       "8. 0.378051556011288\n",
       "9. 0.309441912701308\n",
       "10. 0\n",
       "\n",
       "\n"
      ],
      "text/plain": [
       " [1] 0.000000e+00 2.623172e-07 7.712124e-05 1.936196e-03 1.678830e-02\n",
       " [6] 7.685073e-02 2.168539e-01 3.780516e-01 3.094419e-01 0.000000e+00"
      ]
     },
     "metadata": {},
     "output_type": "display_data"
    },
    {
     "data": {
      "text/html": [
       "<style>\n",
       ".list-inline {list-style: none; margin:0; padding: 0}\n",
       ".list-inline>li {display: inline-block}\n",
       ".list-inline>li:not(:last-child)::after {content: \"\\00b7\"; padding: 0 .5ex}\n",
       "</style>\n",
       "<ol class=list-inline><li>2.77555756156289e-17</li><li>5.55111512312578e-17</li><li>2.77555756156289e-17</li><li>2.77555756156289e-17</li><li>4.16333634234434e-17</li><li>1.38777878078145e-17</li><li>3.46944695195361e-18</li><li>0</li><li>-1.0842021724855e-19</li><li>0</li></ol>\n"
      ],
      "text/latex": [
       "\\begin{enumerate*}\n",
       "\\item 2.77555756156289e-17\n",
       "\\item 5.55111512312578e-17\n",
       "\\item 2.77555756156289e-17\n",
       "\\item 2.77555756156289e-17\n",
       "\\item 4.16333634234434e-17\n",
       "\\item 1.38777878078145e-17\n",
       "\\item 3.46944695195361e-18\n",
       "\\item 0\n",
       "\\item -1.0842021724855e-19\n",
       "\\item 0\n",
       "\\end{enumerate*}\n"
      ],
      "text/markdown": [
       "1. 2.77555756156289e-17\n",
       "2. 5.55111512312578e-17\n",
       "3. 2.77555756156289e-17\n",
       "4. 2.77555756156289e-17\n",
       "5. 4.16333634234434e-17\n",
       "6. 1.38777878078145e-17\n",
       "7. 3.46944695195361e-18\n",
       "8. 0\n",
       "9. -1.0842021724855e-19\n",
       "10. 0\n",
       "\n",
       "\n"
      ],
      "text/plain": [
       " [1]  2.775558e-17  5.551115e-17  2.775558e-17  2.775558e-17  4.163336e-17\n",
       " [6]  1.387779e-17  3.469447e-18  0.000000e+00 -1.084202e-19  0.000000e+00"
      ]
     },
     "metadata": {},
     "output_type": "display_data"
    }
   ],
   "source": [
    "rho = seq(from=1, to=10, by=1)\n",
    "n_heads = 2\n",
    "n_observations = 10\n",
    "posterior(rho, n_heads, n_observations)\n",
    "posterior(rho, 4, 4) - posterior_given_four_heads(rho)"
   ]
  }
 ],
 "metadata": {
  "kernelspec": {
   "display_name": "R",
   "language": "R",
   "name": "ir"
  },
  "language_info": {
   "codemirror_mode": "r",
   "file_extension": ".r",
   "mimetype": "text/x-r-source",
   "name": "R",
   "pygments_lexer": "r",
   "version": "4.3.2"
  }
 },
 "nbformat": 4,
 "nbformat_minor": 2
}
