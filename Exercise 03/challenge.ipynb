{
 "cells": [
  {
   "cell_type": "code",
   "execution_count": 158,
   "metadata": {
    "vscode": {
     "languageId": "r"
    }
   },
   "outputs": [],
   "source": [
    "suppressPackageStartupMessages(library(extraDistr))\n",
    "suppressPackageStartupMessages(library(distr))\n",
    "set.seed(2024)"
   ]
  },
  {
   "cell_type": "code",
   "execution_count": 159,
   "metadata": {
    "vscode": {
     "languageId": "r"
    }
   },
   "outputs": [],
   "source": [
    "weight = 1.0\n",
    "# .GlobalEnv$weight = 1.0\n",
    "observations = NULL"
   ]
  },
  {
   "cell_type": "code",
   "execution_count": 160,
   "metadata": {
    "vscode": {
     "languageId": "r"
    }
   },
   "outputs": [],
   "source": [
    "## Utilities to make the distr library a bit nicer to use\n",
    "p <- function(distribution, realization) {\n",
    "  d(distribution)(realization) # return the PMF or density \n",
    "}\n",
    "\n",
    "Bern = function(probability_to_get_one) {\n",
    "  DiscreteDistribution(supp = 0:1, prob = c(1-probability_to_get_one, probability_to_get_one))\n",
    "}\n",
    "\n",
    "## Key functions called by simPPLe programs\n",
    "\n",
    "# Use simulate(distribution) for unobserved random variables\n",
    "simulate <- function(distribution) {\n",
    "  r(distribution)(1) # sample once from the given distribution\n",
    "}\n",
    "\n",
    "observe = function(realization, distribution) {\n",
    "  # `<<-` lets us modify variables that live in the global scope from inside a function\n",
    "  weight <<- weight * p(distribution, realization) \n",
    "  observations <<- c(observations, realization)\n",
    "}"
   ]
  },
  {
   "cell_type": "code",
   "execution_count": 161,
   "metadata": {
    "vscode": {
     "languageId": "r"
    }
   },
   "outputs": [],
   "source": [
    "# Example from lecture\n",
    "my_ppl_1 = function(n_obs) {\n",
    "  x = simulate(DiscreteDistribution(supp = 0:2))\n",
    "  n_outcomes = length(0:2)\n",
    "  p_x = p(DiscreteDistribution(supp = 0:2), x)\n",
    "  prob_heads = x/K\n",
    "  probs = rep(0, n_obs-1)\n",
    "  for (i in (1:(n_obs-1))) {\n",
    "    y = simulate(Bern(1 - prob_heads))\n",
    "    observe(y, Bern(1 - prob_heads)) \n",
    "    if (y == 1) {\n",
    "      probs[i] = 1 - prob_heads\n",
    "    } else {\n",
    "      probs[i] = prob_heads\n",
    "    }\n",
    "  }\n",
    "  # return the path and associated info\n",
    "  return(list(obs = c(x, observations), prob = c(p_x, probs), max_leaf = (n_outcomes-2)*(2^(n_obs-1))+2))\n",
    "}\n",
    "\n",
    "\n",
    "# Example from Exercise 01: bigger bag of more biased coins\n",
    "my_ppl_2 = function(n_obs) {\n",
    "  K = 9\n",
    "  rho = seq(1,K+1,1) / sum(seq(1,K+1,1))\n",
    "  dist_x = DiscreteDistribution(supp = 0:K, prob=rho)\n",
    "  x = simulate(dist_x)\n",
    "  n_outcomes = length(0:K)\n",
    "  p_x = p(dist_x, x)\n",
    "  prob_heads = rho[x+1]\n",
    "  probs = rep(0, n_obs-1)\n",
    "  for (i in (1:(n_obs-1))) {\n",
    "    y = simulate(Bern(1 - prob_heads))\n",
    "    observe(y, Bern(1 - prob_heads)) \n",
    "    if (y == 1) {\n",
    "      probs[i] = 1 - prob_heads\n",
    "    } else {\n",
    "      probs[i] = prob_heads\n",
    "    }\n",
    "  }\n",
    "  # return the path and associated info\n",
    "  return(list(obs = c(x, observations), prob = c(p_x, probs), max_leaf = (n_outcomes-2)*(2^(n_obs-1))+2))\n",
    "  \n",
    "}\n"
   ]
  },
  {
   "cell_type": "code",
   "execution_count": 162,
   "metadata": {
    "vscode": {
     "languageId": "r"
    }
   },
   "outputs": [],
   "source": [
    "decision_tree = function(ppl_fn, n_level) {\n",
    "    generated_paths = list() # hashmap for path: key=str(path), value=path\n",
    "    n_leaf = 0\n",
    "    complete = FALSE\n",
    "    mermaid_code = cat(\"graph TD\", \"\\n\", \"N[S]\", \"\\n\")\n",
    "    visited = NULL # keeping track of the nodes visited so that avoid duplicate path-so-far\n",
    "    while (!complete) {\n",
    "        weight <<- 1\n",
    "        observations <<- NULL\n",
    "        path_obj = ppl_fn(n_level)\n",
    "        path = path_obj$obs\n",
    "        probs = path_obj$prob\n",
    "        max_leaf = path_obj$max_leaf\n",
    "        \n",
    "        path_str = paste(path, collapse = \"\")  # Convert path to a string\n",
    "        if (!path_str %in% names(generated_paths)) {\n",
    "            generated_paths[[path_str]] = path  # store path\n",
    "            n_leaf = n_leaf + 1\n",
    "\n",
    "            # for each path, parse along the entries to update mermaid string\n",
    "            # format: parent -->|prob| curr[X=0](or curr[Yi=1])\n",
    "            parent_node = \"N\"\n",
    "            visited = c(visited, parent_node)\n",
    "            for (i in (1:nchar(path_str))) {\n",
    "                curr_node = paste0(\"N\", substring(path_str, 1, i))\n",
    "                if (!curr_node %in% visited) {\n",
    "                    mermaid_code = cat(mermaid_code, paste0(parent_node, \"-->|\", round(probs[i],2), \"| \"), curr_node, \"[\", substring(path_str,i,i), \"]\", \"\\n\", sep=\"\")\n",
    "                } \n",
    "                parent_node = curr_node\n",
    "                visited = c(visited, parent_node)\n",
    "            }\n",
    "        }\n",
    "        # Stop if total number of leaves so far = theorectical num of leaves\n",
    "        if (n_leaf == max_leaf) {\n",
    "            complete = TRUE\n",
    "        }\n",
    "    }\n",
    "    return (mermaid_code)\n",
    "}"
   ]
  },
  {
   "cell_type": "code",
   "execution_count": 163,
   "metadata": {
    "vscode": {
     "languageId": "r"
    }
   },
   "outputs": [
    {
     "name": "stdout",
     "output_type": "stream",
     "text": [
      "graph TD \n",
      " N[S] \n",
      "N-->|0.33| N0[0]\n",
      "N0-->|1| N01[1]\n",
      "N01-->|1| N011[1]\n",
      "N-->|0.33| N2[2]\n",
      "N2-->|0.78| N21[1]\n",
      "N21-->|0.22| N210[0]\n",
      "N-->|0.33| N1[1]\n",
      "N1-->|0.11| N10[0]\n",
      "N10-->|0.11| N100[0]\n",
      "N1-->|0.89| N11[1]\n",
      "N11-->|0.89| N111[1]\n",
      "N21-->|0.78| N211[1]\n",
      "N10-->|0.89| N101[1]\n"
     ]
    }
   ],
   "source": [
    "tree1 = decision_tree(my_ppl_1, 3)"
   ]
  },
  {
   "cell_type": "code",
   "execution_count": 164,
   "metadata": {
    "vscode": {
     "languageId": "r"
    }
   },
   "outputs": [
    {
     "name": "stdout",
     "output_type": "stream",
     "text": [
      "graph TD \n",
      " N[S] \n",
      "N-->|0.11| N5[5]\n",
      "N5-->|0.89| N51[1]\n",
      "N51-->|0.11| N510[0]\n",
      "N51-->|0.89| N511[1]\n",
      "N-->|0.15| N7[7]\n",
      "N7-->|0.85| N71[1]\n",
      "N71-->|0.85| N711[1]\n",
      "N-->|0.09| N4[4]\n",
      "N4-->|0.91| N41[1]\n",
      "N41-->|0.91| N411[1]\n",
      "N-->|0.16| N8[8]\n",
      "N8-->|0.84| N81[1]\n",
      "N81-->|0.84| N811[1]\n",
      "N-->|0.18| N9[9]\n",
      "N9-->|0.82| N91[1]\n",
      "N91-->|0.82| N911[1]\n",
      "N-->|0.07| N3[3]\n",
      "N3-->|0.93| N31[1]\n",
      "N31-->|0.93| N311[1]\n",
      "N81-->|0.16| N810[0]\n",
      "N-->|0.13| N6[6]\n",
      "N6-->|0.13| N60[0]\n",
      "N60-->|0.87| N601[1]\n",
      "N41-->|0.09| N410[0]\n",
      "N6-->|0.87| N61[1]\n",
      "N61-->|0.87| N611[1]\n",
      "N7-->|0.15| N70[0]\n",
      "N70-->|0.85| N701[1]\n",
      "N-->|0.05| N2[2]\n",
      "N2-->|0.95| N21[1]\n",
      "N21-->|0.95| N211[1]\n",
      "N61-->|0.13| N610[0]\n",
      "N-->|0.02| N0[0]\n",
      "N0-->|0.98| N01[1]\n",
      "N01-->|0.98| N011[1]\n",
      "N91-->|0.18| N910[0]\n",
      "N71-->|0.15| N710[0]\n",
      "N9-->|0.18| N90[0]\n",
      "N90-->|0.82| N901[1]\n",
      "N31-->|0.07| N310[0]\n",
      "N5-->|0.11| N50[0]\n",
      "N50-->|0.89| N501[1]\n",
      "N8-->|0.16| N80[0]\n",
      "N80-->|0.16| N800[0]\n",
      "N70-->|0.15| N700[0]\n",
      "N3-->|0.07| N30[0]\n",
      "N30-->|0.93| N301[1]\n",
      "N-->|0.04| N1[1]\n",
      "N1-->|0.96| N11[1]\n",
      "N11-->|0.96| N111[1]\n",
      "N80-->|0.84| N801[1]\n",
      "N4-->|0.09| N40[0]\n",
      "N40-->|0.91| N401[1]\n",
      "N90-->|0.18| N900[0]\n",
      "N60-->|0.13| N600[0]\n",
      "N21-->|0.05| N210[0]\n",
      "N2-->|0.05| N20[0]\n",
      "N20-->|0.95| N201[1]\n",
      "N50-->|0.11| N500[0]\n",
      "N11-->|0.04| N110[0]\n",
      "N1-->|0.04| N10[0]\n",
      "N10-->|0.96| N101[1]\n",
      "N01-->|0.02| N010[0]\n"
     ]
    }
   ],
   "source": [
    "tree2 = decision_tree(my_ppl_2, 3)"
   ]
  }
 ],
 "metadata": {
  "kernelspec": {
   "display_name": "R",
   "language": "R",
   "name": "ir"
  },
  "language_info": {
   "codemirror_mode": "r",
   "file_extension": ".r",
   "mimetype": "text/x-r-source",
   "name": "R",
   "pygments_lexer": "r",
   "version": "4.3.2"
  }
 },
 "nbformat": 4,
 "nbformat_minor": 2
}
