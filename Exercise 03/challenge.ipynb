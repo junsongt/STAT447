{
 "cells": [
  {
   "cell_type": "code",
   "execution_count": 1,
   "metadata": {
    "vscode": {
     "languageId": "r"
    }
   },
   "outputs": [],
   "source": [
    "suppressPackageStartupMessages(library(extraDistr))\n",
    "suppressPackageStartupMessages(library(distr))\n",
    "set.seed(2024)"
   ]
  },
  {
   "cell_type": "code",
   "execution_count": null,
   "metadata": {
    "vscode": {
     "languageId": "r"
    }
   },
   "outputs": [],
   "source": [
    "weight = 1.0\n",
    "# .GlobalEnv$weight = 1.0\n",
    "coin_flips = rep(0, 4)\n",
    "\n",
    "\n",
    "## Utilities to make the distr library a bit nicer to use\n",
    "\n",
    "p <- function(distribution, realization) {\n",
    "  d(distribution)(realization) # return the PMF or density \n",
    "}\n",
    "\n",
    "Bern = function(probability_to_get_one) {\n",
    "  DiscreteDistribution(supp = 0:1, prob = c(1-probability_to_get_one, probability_to_get_one))\n",
    "}\n",
    "\n",
    "## Key functions called by simPPLe programs\n",
    "\n",
    "# Use simulate(distribution) for unobserved random variables\n",
    "simulate <- function(distribution) {\n",
    "  r(distribution)(1) # sample once from the given distribution\n",
    "}\n",
    "\n",
    "observe = function(realization, distribution) {\n",
    "  # `<<-` lets us modify variables that live in the global scope from inside a function\n",
    "  weight <<- weight * p(distribution, realization) \n",
    "}\n",
    "\n",
    "\n",
    "my_first_probabilistic_program = function() {\n",
    "  # Similar to forward sampling, but use 'observe' when the variable is observed\n",
    "  coin_index = simulate(DiscreteDistribution(supp = 0:2))\n",
    "  for (i in seq_along(coin_flips)) { \n",
    "    prob_heads = coin_index/2\n",
    "    observe(coin_flips[i], Bern(1 - prob_heads)) \n",
    "  }\n",
    "  # return the test function g(x, y)\n",
    "  return(ifelse(coin_index == 1, 1, 0))\n",
    "}\n",
    "\n",
    "\n",
    "\n",
    "\n",
    "posterior = function(ppl_function, number_of_iterations) {\n",
    "  numerator = 0.0\n",
    "  denominator = 0.0\n",
    "  for (i in 1:number_of_iterations) {\n",
    "    weight <<- 1.0\n",
    "    g_i = ppl_function()\n",
    "    # update numerator and denominator\n",
    "    numerator = numerator + g_i * weight\n",
    "    denominator = denominator + weight\n",
    "  }\n",
    "  return(numerator/denominator)\n",
    "}"
   ]
  },
  {
   "cell_type": "code",
   "execution_count": null,
   "metadata": {
    "vscode": {
     "languageId": "r"
    }
   },
   "outputs": [],
   "source": [
    "decision_tree = fucntion(ppl_prog) {\n",
    "    \n",
    "}"
   ]
  },
  {
   "cell_type": "markdown",
   "metadata": {},
   "source": [
    "# mermaid.js\n",
    "flowchart TD\n",
    "    L1[S]\n",
    "\n",
    "    L1 -->|0.33| L21[X=0]\n",
    "    L1 -->|0.33| L22[X=1]\n",
    "    L1 -->|0.33| L23[X=2]\n",
    "\n",
    "    L21 -->|1.0| L31[Y1=false]\n",
    "    L22 -->|0.5| L32[Y1=false]\n",
    "    L22 -->|0.5| L33[Y1=true]\n",
    "    L23 -->|1.0| L34[Y1=true]\n",
    "\n",
    "    L31 -->|1.0| L41[Y2=false]\n",
    "    L32 -->|0.5| L42[Y2=false]\n",
    "    L32 -->|0.5| L43[Y2=true]\n",
    "    L33 -->|0.5| L44[Y2=false]\n",
    "    L33 -->|0.5| L45[Y2=true]\n",
    "    L34 -->|1.0| L46[Y2=true]\n",
    "\n",
    "    L41 -->|1.0| L51[Y3=false]\n",
    "    L42 -->|0.5| L52[Y3=false]\n",
    "    L42 -->|0.5| L53[Y3=true]\n",
    "    L43 -->|0.5| L54[Y3=false]\n",
    "    L43 -->|0.5| L55[Y3=true]\n",
    "    L44 -->|0.5| L56[Y3=false]\n",
    "    L44 -->|0.5| L57[Y3=true]\n",
    "    L45 -->|0.5| L58[Y3=false]\n",
    "    L45 -->|0.5| L59[Y3=true]\n",
    "    L46 -->|1.0| L510[Y3=true]\n",
    "\n",
    "\n",
    "\n",
    "    %% A[S] -->|Get money| B(Go shopping)\n",
    "    %% B --> C{Let me think}\n",
    "    %% C -->|One| D[Laptop]\n",
    "    %% C -->|Two| E[iPhone]\n",
    "    %% C -->|Three| F[fa:fa-car Car]"
   ]
  }
 ],
 "metadata": {
  "kernelspec": {
   "display_name": "R",
   "language": "R",
   "name": "ir"
  },
  "language_info": {
   "codemirror_mode": "r",
   "file_extension": ".r",
   "mimetype": "text/x-r-source",
   "name": "R",
   "pygments_lexer": "r",
   "version": "4.3.2"
  }
 },
 "nbformat": 4,
 "nbformat_minor": 2
}
