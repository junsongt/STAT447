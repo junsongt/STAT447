{
 "cells": [
  {
   "cell_type": "code",
   "execution_count": 2,
   "metadata": {
    "vscode": {
     "languageId": "r"
    }
   },
   "outputs": [],
   "source": [
    "suppressPackageStartupMessages(library(extraDistr))\n",
    "suppressPackageStartupMessages(library(distr))\n",
    "set.seed(2024)"
   ]
  },
  {
   "cell_type": "markdown",
   "metadata": {},
   "source": [
    "### Q1"
   ]
  },
  {
   "cell_type": "code",
   "execution_count": 5,
   "metadata": {
    "vscode": {
     "languageId": "r"
    }
   },
   "outputs": [],
   "source": [
    "# (1)\n",
    "mc_estimate = function(f) {\n",
    "  sum = 0\n",
    "  for (i in 1:10000) {\n",
    "    x = runif(1, 0, 1)\n",
    "    sum = sum + f(x)\n",
    "  }\n",
    "  return (sum / 10000)\n",
    "}"
   ]
  },
  {
   "cell_type": "code",
   "execution_count": 6,
   "metadata": {
    "vscode": {
     "languageId": "r"
    }
   },
   "outputs": [
    {
     "name": "stdout",
     "output_type": "stream",
     "text": [
      "[1] 0.7495085\n"
     ]
    }
   ],
   "source": [
    "# (2)\n",
    "my_fun = function(x) exp(-x^2)\n",
    "print(mc_estimate(my_fun))"
   ]
  },
  {
   "cell_type": "code",
   "execution_count": 7,
   "metadata": {
    "vscode": {
     "languageId": "r"
    }
   },
   "outputs": [
    {
     "name": "stdout",
     "output_type": "stream",
     "text": [
      "[1] 0.7590194\n"
     ]
    }
   ],
   "source": [
    "# (3)\n",
    "fun = function(x) sin(cos(sin(x)))\n",
    "print(mc_estimate(fun))"
   ]
  },
  {
   "cell_type": "markdown",
   "metadata": {},
   "source": [
    "### Q2"
   ]
  },
  {
   "cell_type": "code",
   "execution_count": 8,
   "metadata": {
    "vscode": {
     "languageId": "r"
    }
   },
   "outputs": [],
   "source": [
    "weight = 1.0\n",
    "# .GlobalEnv$weight = 1.0\n",
    "coin_flips = rep(0, 4)\n",
    "\n",
    "\n",
    "## Utilities to make the distr library a bit nicer to use\n",
    "\n",
    "p <- function(distribution, realization) {\n",
    "  d(distribution)(realization) # return the PMF or density \n",
    "}\n",
    "\n",
    "Bern = function(probability_to_get_one) {\n",
    "  DiscreteDistribution(supp = 0:1, prob = c(1-probability_to_get_one, probability_to_get_one))\n",
    "}\n",
    "\n",
    "## Key functions called by simPPLe programs\n",
    "\n",
    "# Use simulate(distribution) for unobserved random variables\n",
    "simulate <- function(distribution) {\n",
    "  r(distribution)(1) # sample once from the given distribution\n",
    "}\n",
    "\n",
    "observe = function(realization, distribution) {\n",
    "  # `<<-` lets us modify variables that live in the global scope from inside a function\n",
    "  weight <<- weight * p(distribution, realization) \n",
    "}\n",
    "\n",
    "\n",
    "# (4)\n",
    "posterior = function(ppl_function, number_of_iterations) {\n",
    "  numerator = 0.0\n",
    "  denominator = 0.0\n",
    "  for (i in 1:number_of_iterations) {\n",
    "    weight <<- 1.0\n",
    "    g_i = ppl_function()\n",
    "    # update numerator and denominator\n",
    "    numerator = numerator + g_i * weight\n",
    "    denominator = denominator + weight\n",
    "  }\n",
    "  return(numerator/denominator)\n",
    "}\n",
    "\n"
   ]
  },
  {
   "cell_type": "code",
   "execution_count": 11,
   "metadata": {
    "vscode": {
     "languageId": "r"
    }
   },
   "outputs": [
    {
     "data": {
      "text/html": [
       "0"
      ],
      "text/latex": [
       "0"
      ],
      "text/markdown": [
       "0"
      ],
      "text/plain": [
       "[1] 0"
      ]
     },
     "metadata": {},
     "output_type": "display_data"
    },
    {
     "data": {
      "text/html": [
       "-0.00101723975274511"
      ],
      "text/latex": [
       "-0.00101723975274511"
      ],
      "text/markdown": [
       "-0.00101723975274511"
      ],
      "text/plain": [
       "[1] -0.00101724"
      ]
     },
     "metadata": {},
     "output_type": "display_data"
    }
   ],
   "source": [
    "# (5)\n",
    "my_ppl = function() {\n",
    "  # Similar to forward sampling, but use 'observe' when the variable is observed\n",
    "  coin_index = simulate(DiscreteDistribution(supp = 0:2))\n",
    "  for (i in seq_along(coin_flips)) { \n",
    "    prob_heads = coin_index/2\n",
    "    observe(coin_flips[i], Bern(1 - prob_heads)) \n",
    "  }\n",
    "  # return the test function g(x, y)\n",
    "  return(ifelse(coin_index == 1, 1, 0))\n",
    "}\n",
    "\n",
    "my_ppl()\n",
    "posterior(my_ppl, 10000) - 1/17\n"
   ]
  }
 ],
 "metadata": {
  "kernelspec": {
   "display_name": "R",
   "language": "R",
   "name": "ir"
  },
  "language_info": {
   "codemirror_mode": "r",
   "file_extension": ".r",
   "mimetype": "text/x-r-source",
   "name": "R",
   "pygments_lexer": "r",
   "version": "4.4.2"
  }
 },
 "nbformat": 4,
 "nbformat_minor": 2
}
