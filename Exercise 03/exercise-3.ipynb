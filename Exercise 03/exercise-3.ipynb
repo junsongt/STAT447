{
 "cells": [
  {
   "cell_type": "code",
   "execution_count": 2,
   "metadata": {
    "vscode": {
     "languageId": "r"
    }
   },
   "outputs": [],
   "source": [
    "suppressPackageStartupMessages(library(extraDistr))\n",
    "suppressPackageStartupMessages(library(distr))\n",
    "set.seed(2024)"
   ]
  },
  {
   "cell_type": "code",
   "execution_count": 3,
   "metadata": {
    "vscode": {
     "languageId": "r"
    }
   },
   "outputs": [],
   "source": [
    "mc_estimate = function(f) {\n",
    "  sum = 0\n",
    "  for (i in 1:10000) {\n",
    "    x = runif(1, 0, 1)\n",
    "    sum = sum + f(x)\n",
    "  }\n",
    "  return (sum /10000)\n",
    "}"
   ]
  },
  {
   "cell_type": "code",
   "execution_count": 4,
   "metadata": {
    "vscode": {
     "languageId": "r"
    }
   },
   "outputs": [
    {
     "name": "stdout",
     "output_type": "stream",
     "text": [
      "[1] 3.489822\n",
      "[1] 3.627599\n",
      "[1] 0.9466461\n",
      "[1] 0.8862269\n"
     ]
    }
   ],
   "source": [
    "my_fun = function(x) {\n",
    "  return (1/(x^2*(1-x))^(1/3))\n",
    "}\n",
    "print(mc_estimate(my_fun))\n",
    "print(pi/sin(pi/3))\n",
    "\n",
    "\n",
    "fun = function(x) {\n",
    "  return (sin(x)/x)\n",
    "}\n",
    "print(mc_estimate(fun))\n",
    "print(sqrt(pi)/2)"
   ]
  },
  {
   "cell_type": "code",
   "execution_count": 6,
   "metadata": {
    "vscode": {
     "languageId": "r"
    }
   },
   "outputs": [
    {
     "data": {
      "text/html": [
       "0"
      ],
      "text/latex": [
       "0"
      ],
      "text/markdown": [
       "0"
      ],
      "text/plain": [
       "[1] 0"
      ]
     },
     "metadata": {},
     "output_type": "display_data"
    },
    {
     "data": {
      "text/html": [
       "0.053098799934243"
      ],
      "text/latex": [
       "0.053098799934243"
      ],
      "text/markdown": [
       "0.053098799934243"
      ],
      "text/plain": [
       "[1] 0.0530988"
      ]
     },
     "metadata": {},
     "output_type": "display_data"
    }
   ],
   "source": [
    "weight = 1.0\n",
    "# .GlobalEnv$weight = 1.0\n",
    "coin_flips = rep(0, 4)\n",
    "\n",
    "\n",
    "## Utilities to make the distr library a bit nicer to use\n",
    "\n",
    "p <- function(distribution, realization) {\n",
    "  d(distribution)(realization) # return the PMF or density \n",
    "}\n",
    "\n",
    "Bern = function(probability_to_get_one) {\n",
    "  DiscreteDistribution(supp = 0:1, prob = c(1-probability_to_get_one, probability_to_get_one))\n",
    "}\n",
    "\n",
    "## Key functions called by simPPLe programs\n",
    "\n",
    "# Use simulate(distribution) for unobserved random variables\n",
    "simulate <- function(distribution) {\n",
    "  r(distribution)(1) # sample once from the given distribution\n",
    "}\n",
    "\n",
    "observe = function(realization, distribution) {\n",
    "  # `<<-` lets us modify variables that live in the global scope from inside a function\n",
    "  weight <<- weight * p(distribution, realization) \n",
    "}\n",
    "\n",
    "\n",
    "my_first_probabilistic_program = function() {\n",
    "  # Similar to forward sampling, but use 'observe' when the variable is observed\n",
    "  coin_index = simulate(DiscreteDistribution(supp = 0:2))\n",
    "  for (i in seq_along(coin_flips)) { \n",
    "    prob_heads = coin_index/2\n",
    "    observe(coin_flips[i], Bern(1 - prob_heads)) \n",
    "  }\n",
    "  # return the test function g(x, y)\n",
    "  return(ifelse(coin_index == 1, 1, 0))\n",
    "}\n",
    "\n",
    "\n",
    "\n",
    "\n",
    "posterior = function(ppl_function, number_of_iterations) {\n",
    "  numerator = 0.0\n",
    "  denominator = 0.0\n",
    "  for (i in 1:number_of_iterations) {\n",
    "    weight <<- 1.0\n",
    "    g_i = ppl_function()\n",
    "    # update numerator and denominator\n",
    "    numerator = numerator + g_i * weight\n",
    "    denominator = denominator + weight\n",
    "  }\n",
    "  return(numerator/denominator)\n",
    "}\n",
    "\n",
    "my_first_probabilistic_program()\n",
    "posterior(my_first_probabilistic_program, 1000)"
   ]
  }
 ],
 "metadata": {
  "kernelspec": {
   "display_name": "R",
   "language": "R",
   "name": "ir"
  },
  "language_info": {
   "codemirror_mode": "r",
   "file_extension": ".r",
   "mimetype": "text/x-r-source",
   "name": "R",
   "pygments_lexer": "r",
   "version": "4.3.2"
  }
 },
 "nbformat": 4,
 "nbformat_minor": 2
}
