{
 "cells": [
  {
   "cell_type": "code",
   "execution_count": 114,
   "metadata": {
    "vscode": {
     "languageId": "r"
    }
   },
   "outputs": [],
   "source": [
    "set.seed(1)\n",
    "suppressPackageStartupMessages(require(rstan))\n",
    "suppressPackageStartupMessages(require(ggplot2))\n",
    "suppressPackageStartupMessages(require(dplyr))"
   ]
  },
  {
   "cell_type": "markdown",
   "metadata": {},
   "source": [
    "### Setup"
   ]
  },
  {
   "cell_type": "code",
   "execution_count": 46,
   "metadata": {
    "vscode": {
     "languageId": "r"
    }
   },
   "outputs": [
    {
     "data": {
      "image/png": "[encoded data removed]",
      "text/plain": [
       "plot without title"
      ]
     },
     "metadata": {
      "image/png": {
       "height": 420,
       "width": 420
      }
     },
     "output_type": "display_data"
    }
   ],
   "source": [
    "food_data = c(4.52, 3.46, 4.65, 3.8, 3.53, 2.64, 3.97, 3.86, 3.12, 2.16, 4.13, 4.6, 0.86,\n",
    "    4.96, 3.66, 2.11, 3.1, 4.68, 3.69, 4.97, 3.02, 4.31, 3.31, 3.27, 1.99, 4.02,\n",
    "    4.44, 3.04, 3.89, 3.59, 4.99, 4.82, 4.99, 3.77, 4.17, 4.01, 3.13, 4.96, 3.73, 4.95,\n",
    "    4.99, 4.49, 4.76, 3.35, 4.41, 4.65, 4.08, 4.72, 4.22, 4.97, 4.87, 4.94)\n",
    "plot(1:length(food_data), food_data, xlab = \"Week\", ylab = \"Average review for schnitzel item on menu\", \n",
    "ylim = c(0,5), xlim = c(1, 52))"
   ]
  },
  {
   "cell_type": "code",
   "execution_count": null,
   "metadata": {
    "vscode": {
     "languageId": "r"
    }
   },
   "outputs": [],
   "source": [
    "log_joint = function(means, change_point, y) {\n",
    "  \n",
    "  # Return log(0.0) if parameters are outside of the support\n",
    "  if (means[1] < 0.1 | means[2] < 0.1 | means[1] > 0.9 | means[2] > 0.9 | change_point < 1 | change_point > length(y)) \n",
    "    return(-Inf)\n",
    "  \n",
    "  log_prior = \n",
    "    dunif(means[1], 0.1, 0.9, log = TRUE) + \n",
    "    dunif(means[2], 0.1, 0.9, log = TRUE)\n",
    "  \n",
    "  log_likelihood = 0.0\n",
    "  for (i in 1:length(y)) {\n",
    "    mean = if (i < change_point) means[1] else means[2]\n",
    "    log_likelihood = log_likelihood + dbeta(y[i]/5, mean*5, (1-mean)*5, log = TRUE)\n",
    "  }\n",
    "  \n",
    "  return(log_prior + log_likelihood)\n",
    "}"
   ]
  },
  {
   "cell_type": "markdown",
   "metadata": {},
   "source": [
    "### Q1: A custom MCMC sampler"
   ]
  },
  {
   "cell_type": "code",
   "execution_count": 118,
   "metadata": {
    "vscode": {
     "languageId": "r"
    }
   },
   "outputs": [],
   "source": [
    "# 3\n",
    "mcmc = function(means, change_point, y, n_iterations) {\n",
    "  change_point_trace = rep(-1, n_iterations)\n",
    "  \n",
    "  for (i in 1:n_iterations) {\n",
    "    # K2 for c\n",
    "    proposed_c = rnorm(1, change_point, sd = 1)\n",
    "    proposed_c = ifelse(proposed_c >= 0, ceiling(proposed_c), floor(proposed_c)) # proposal\n",
    "    print(log_joint(means, proposed_c, y))\n",
    "    print(log_joint(means, change_point, y))\n",
    "    ratio = exp(log_joint(means, proposed_c, y) - log_joint(means, change_point, y)) #M-H ratio\n",
    "    change_point = ifelse(runif(1) < min(ratio,1), proposed_c, change_point) # acceptance\n",
    "    change_point_trace[i] = change_point\n",
    "    # K1 for mu\n",
    "    proposed_mu = rnorm(2, means, 1)\n",
    "    ratio = exp(log_joint(proposed_mu, change_point, y) - log_joint(means, change_point, y))\n",
    "    means = ifelse(runif(1) < min(ratio,1), proposed_mu, means)\n",
    "  }\n",
    "  \n",
    "  # Return:\n",
    "  # - the trace of the change points (for question 1) \n",
    "  # - the means at the last iteration (for question 2)\n",
    "  return(\n",
    "    list(\n",
    "      change_point_trace = change_point_trace, \n",
    "      last_iteration_means = means \n",
    "    )\n",
    "  )\n",
    "}"
   ]
  },
  {
   "cell_type": "markdown",
   "metadata": {},
   "source": [
    "### Q2: MCMC correctness testing"
   ]
  },
  {
   "cell_type": "code",
   "execution_count": 90,
   "metadata": {
    "vscode": {
     "languageId": "r"
    }
   },
   "outputs": [],
   "source": [
    "# 1\n",
    "forward = function(synthetic_data_size) {\n",
    "\n",
    "  mu1 = runif(1, 0.1, 0.9)\n",
    "  mu2 = runif(1, 0.1, 0.9)\n",
    "  means = c(mu1, mu2)\n",
    "  change_point = ceiling(runif(1, 0, synthetic_data_size))\n",
    "  data = numeric(synthetic_data_size)\n",
    "  for (i in 1:synthetic_data_size) {\n",
    "    index = ifelse(i >= change_point, 1, 0) + 1\n",
    "    data[i] = rbeta(1, means[index]*5, (1-means[index])*5)\n",
    "  } \n",
    "  return(list(\n",
    "    means = means,\n",
    "    change_point = change_point,\n",
    "    data = data\n",
    "  ))\n",
    "}"
   ]
  },
  {
   "cell_type": "code",
   "execution_count": 91,
   "metadata": {
    "vscode": {
     "languageId": "r"
    }
   },
   "outputs": [],
   "source": [
    "forward_posterior = function(synthetic_data_size, n_mcmc_iters) {\n",
    "  initial = forward(synthetic_data_size)\n",
    "  \n",
    "  if (n_mcmc_iters > 0) {\n",
    "    samples = mcmc(initial$means, initial$change_point, initial$data, n_mcmc_iters)\n",
    "    return(samples$last_iteration_means[1])\n",
    "  } else {\n",
    "    return(initial$means[1])\n",
    "  }\n",
    "}"
   ]
  },
  {
   "cell_type": "code",
   "execution_count": 115,
   "metadata": {
    "vscode": {
     "languageId": "r"
    }
   },
   "outputs": [],
   "source": [
    "initial = forward(5)"
   ]
  },
  {
   "cell_type": "code",
   "execution_count": 117,
   "metadata": {
    "vscode": {
     "languageId": "r"
    }
   },
   "outputs": [
    {
     "data": {
      "text/html": [
       "<style>\n",
       ".list-inline {list-style: none; margin:0; padding: 0}\n",
       ".list-inline>li {display: inline-block}\n",
       ".list-inline>li:not(:last-child)::after {content: \"\\00b7\"; padding: 0 .5ex}\n",
       "</style>\n",
       "<ol class=list-inline><li>0.31240693051368</li><li>0.397699119709432</li></ol>\n"
      ],
      "text/latex": [
       "\\begin{enumerate*}\n",
       "\\item 0.31240693051368\n",
       "\\item 0.397699119709432\n",
       "\\end{enumerate*}\n"
      ],
      "text/markdown": [
       "1. 0.31240693051368\n",
       "2. 0.397699119709432\n",
       "\n",
       "\n"
      ],
      "text/plain": [
       "[1] 0.3124069 0.3976991"
      ]
     },
     "metadata": {},
     "output_type": "display_data"
    },
    {
     "data": {
      "text/html": [
       "3"
      ],
      "text/latex": [
       "3"
      ],
      "text/markdown": [
       "3"
      ],
      "text/plain": [
       "[1] 3"
      ]
     },
     "metadata": {},
     "output_type": "display_data"
    },
    {
     "data": {
      "text/html": [
       "<style>\n",
       ".list-inline {list-style: none; margin:0; padding: 0}\n",
       ".list-inline>li {display: inline-block}\n",
       ".list-inline>li:not(:last-child)::after {content: \"\\00b7\"; padding: 0 .5ex}\n",
       "</style>\n",
       "<ol class=list-inline><li>0.704328148878262</li><li>0.423892874130143</li><li>0.099850983207309</li><li>0.193908428664001</li><li>0.326362874759758</li></ol>\n"
      ],
      "text/latex": [
       "\\begin{enumerate*}\n",
       "\\item 0.704328148878262\n",
       "\\item 0.423892874130143\n",
       "\\item 0.099850983207309\n",
       "\\item 0.193908428664001\n",
       "\\item 0.326362874759758\n",
       "\\end{enumerate*}\n"
      ],
      "text/markdown": [
       "1. 0.704328148878262\n",
       "2. 0.423892874130143\n",
       "3. 0.099850983207309\n",
       "4. 0.193908428664001\n",
       "5. 0.326362874759758\n",
       "\n",
       "\n"
      ],
      "text/plain": [
       "[1] 0.70432815 0.42389287 0.09985098 0.19390843 0.32636287"
      ]
     },
     "metadata": {},
     "output_type": "display_data"
    }
   ],
   "source": [
    "initial$means\n",
    "initial$change_point\n",
    "initial$data"
   ]
  },
  {
   "cell_type": "code",
   "execution_count": 119,
   "metadata": {
    "vscode": {
     "languageId": "r"
    }
   },
   "outputs": [
    {
     "name": "stdout",
     "output_type": "stream",
     "text": [
      "[1] 5.604923\n",
      "[1] 5.604923\n"
     ]
    },
    {
     "ename": "ERROR",
     "evalue": "Error in if (means[1] < 0.1 | means[2] < 0.1 | means[1] > 0.9 | means[2] > : missing value where TRUE/FALSE needed\n",
     "output_type": "error",
     "traceback": [
      "Error in if (means[1] < 0.1 | means[2] < 0.1 | means[1] > 0.9 | means[2] > : missing value where TRUE/FALSE needed\nTraceback:\n",
      "1. sapply(integer(n), eval.parent(substitute(function(...) expr)), \n .     simplify = simplify)",
      "2. lapply(X = X, FUN = FUN, ...)",
      "3. FUN(X[[i]], ...)",
      "4. forward_posterior(5, 200)",
      "5. mcmc(initial$means, initial$change_point, initial$data, n_mcmc_iters)",
      "6. print(log_joint(means, proposed_c, y))",
      "7. log_joint(means, proposed_c, y)",
      "8. .handleSimpleError(function (cnd) \n . {\n .     watcher$capture_plot_and_output()\n .     cnd <- sanitize_call(cnd)\n .     watcher$push(cnd)\n .     switch(on_error, continue = invokeRestart(\"eval_continue\"), \n .         stop = invokeRestart(\"eval_stop\"), error = NULL)\n . }, \"missing value where TRUE/FALSE needed\", base::quote(if (means[1] < \n .     0.1 | means[2] < 0.1 | means[1] > 0.9 | means[2] > 0.9 | \n .     change_point < 1 | change_point > length(y)) return(-Inf)))"
     ]
    }
   ],
   "source": [
    "# 2\n",
    "# Note: we use synthetic datasets with only 5 observations to speed things up\n",
    "forward_only = replicate(1000, forward_posterior(5, 0))\n",
    "with_mcmc = replicate(1000, forward_posterior(5, 200))\n",
    "\n",
    "# TODO: perform 2-samples t-test or Kolmogorov-Smirnov test\n",
    "#       to see if forward_only and with_mcmc follow the same distribution. "
   ]
  },
  {
   "cell_type": "markdown",
   "metadata": {},
   "source": [
    "### Q3: Using your sampler for data analysis"
   ]
  }
 ],
 "metadata": {
  "kernelspec": {
   "display_name": "R",
   "language": "R",
   "name": "ir"
  },
  "language_info": {
   "codemirror_mode": "r",
   "file_extension": ".r",
   "mimetype": "text/x-r-source",
   "name": "R",
   "pygments_lexer": "r",
   "version": "4.4.2"
  }
 },
 "nbformat": 4,
 "nbformat_minor": 2
}
