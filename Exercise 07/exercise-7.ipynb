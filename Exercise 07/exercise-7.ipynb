{
 "cells": [
  {
   "cell_type": "code",
   "execution_count": 6,
   "metadata": {
    "vscode": {
     "languageId": "r"
    }
   },
   "outputs": [],
   "source": [
    "library(ggplot2)\n",
    "suppressPackageStartupMessages(library(extraDistr))\n",
    "suppressPackageStartupMessages(library(distr))\n",
    "suppressPackageStartupMessages(require(rstan))\n",
    "set.seed(2025)\n"
   ]
  },
  {
   "cell_type": "markdown",
   "metadata": {},
   "source": [
    "### Q1: Installing and running Stan"
   ]
  },
  {
   "cell_type": "code",
   "execution_count": 3,
   "metadata": {
    "vscode": {
     "languageId": "r"
    }
   },
   "outputs": [],
   "source": [
    "# 1\n",
    "#       mean se_mean   sd  2.5%   25%   50%   75% 97.5% n_eff Rhat\n",
    "# p     0.81    0.01 0.16  0.40  0.73  0.85  0.93  0.99   765    1\n",
    "# lp__ -3.07    0.03 0.76 -5.39 -3.28 -2.77 -2.56 -2.50   606    1"
   ]
  },
  {
   "cell_type": "markdown",
   "metadata": {},
   "source": [
    "### Q2: Regression/classification in Stan"
   ]
  },
  {
   "cell_type": "code",
   "execution_count": 4,
   "metadata": {
    "vscode": {
     "languageId": "r"
    }
   },
   "outputs": [],
   "source": [
    "# 2\n",
    "suppressPackageStartupMessages(require(ggplot2))\n",
    "suppressPackageStartupMessages(require(dplyr))\n",
    "\n",
    "df = read.csv(\n",
    "  \"https://raw.githubusercontent.com/UBC-Stat-ML/web447/1e345149a5b698ccdf0a7e9b0aeabec2463c50ca/data/sunspots-SN_m_tot_V2.0.csv\",\n",
    "  sep = \";\", header=FALSE) %>%\n",
    "  mutate(count = ceiling(V4)) %>%\n",
    "  rename(year = V3) %>%\n",
    "  filter(year > 2005)\n",
    "\n",
    "counts = df$count \n",
    "time = df$year"
   ]
  },
  {
   "cell_type": "code",
   "execution_count": 14,
   "metadata": {
    "vscode": {
     "languageId": "r"
    }
   },
   "outputs": [
    {
     "name": "stdout",
     "output_type": "stream",
     "text": [
      "\n",
      "SAMPLING FOR MODEL 'anon_model' NOW (CHAIN 1).\n",
      "Chain 1: \n",
      "Chain 1: Gradient evaluation took 0.000447 seconds\n",
      "Chain 1: 1000 transitions using 10 leapfrog steps per transition would take 4.47 seconds.\n",
      "Chain 1: Adjust your expectations accordingly!\n",
      "Chain 1: \n",
      "Chain 1: \n",
      "Chain 1: Iteration:    1 / 2500 [  0%]  (Warmup)\n",
      "Chain 1: Iteration:  250 / 2500 [ 10%]  (Warmup)\n",
      "Chain 1: Iteration:  500 / 2500 [ 20%]  (Warmup)\n",
      "Chain 1: Iteration:  750 / 2500 [ 30%]  (Warmup)\n",
      "Chain 1: Iteration: 1000 / 2500 [ 40%]  (Warmup)\n",
      "Chain 1: Iteration: 1250 / 2500 [ 50%]  (Warmup)\n",
      "Chain 1: Iteration: 1251 / 2500 [ 50%]  (Sampling)\n",
      "Chain 1: Iteration: 1500 / 2500 [ 60%]  (Sampling)\n",
      "Chain 1: Iteration: 1750 / 2500 [ 70%]  (Sampling)\n",
      "Chain 1: Iteration: 2000 / 2500 [ 80%]  (Sampling)\n",
      "Chain 1: Iteration: 2250 / 2500 [ 90%]  (Sampling)\n",
      "Chain 1: Iteration: 2500 / 2500 [100%]  (Sampling)\n",
      "Chain 1: \n",
      "Chain 1:  Elapsed Time: 3.004 seconds (Warm-up)\n",
      "Chain 1:                1.214 seconds (Sampling)\n",
      "Chain 1:                4.218 seconds (Total)\n",
      "Chain 1: \n"
     ]
    }
   ],
   "source": [
    "init_fun <- function() {\n",
    "  list(theta1 = 40, theta2 = 1.0, theta3 = 0.25)\n",
    "}\n",
    "fit = stan(seed=2025, file=\"./sunspots.stan\", data=list(N=length(counts),y=counts), chains=1, iter=2500, init = init_fun)"
   ]
  },
  {
   "cell_type": "code",
   "execution_count": null,
   "metadata": {
    "vscode": {
     "languageId": "r"
    }
   },
   "outputs": [],
   "source": []
  }
 ],
 "metadata": {
  "kernelspec": {
   "display_name": "R",
   "language": "R",
   "name": "ir"
  },
  "language_info": {
   "codemirror_mode": "r",
   "file_extension": ".r",
   "mimetype": "text/x-r-source",
   "name": "R",
   "pygments_lexer": "r",
   "version": "4.4.2"
  }
 },
 "nbformat": 4,
 "nbformat_minor": 2
}
