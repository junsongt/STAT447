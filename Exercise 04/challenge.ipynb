{
 "cells": [
  {
   "cell_type": "markdown",
   "metadata": {},
   "source": [
    "# Model setup\n",
    "(This is similar to \"German tank problem\")\n",
    "\n",
    "Since the total number of copies is unknown, so we chose it to be our unknown parameter.\n",
    "\n",
    "Let the total number of copies be $N$, where $N$ has support $\\mathbb{N}$.\n",
    "\n",
    "Before deciding which prior we are going to choose, we first decide what knid of likelihood we should use in this model. So based on the information, given $N$, I happen to possess No.1, 3, and 5\n",
    "\n"
   ]
  },
  {
   "cell_type": "code",
   "execution_count": 4,
   "metadata": {
    "vscode": {
     "languageId": "r"
    }
   },
   "outputs": [],
   "source": [
    "source(\"./simple.R\")\n",
    "source(\"./simple_utils.R\")\n",
    "set.seed(2024)"
   ]
  },
  {
   "cell_type": "code",
   "execution_count": 2,
   "metadata": {
    "vscode": {
     "languageId": "r"
    }
   },
   "outputs": [],
   "source": [
    "weight = 1.0\n",
    "# .GlobalEnv$weight = 1.0\n",
    "observations = NULL"
   ]
  },
  {
   "cell_type": "code",
   "execution_count": 3,
   "metadata": {
    "vscode": {
     "languageId": "r"
    }
   },
   "outputs": [],
   "source": [
    "## Utilities to make the distr library a bit nicer to use\n",
    "p <- function(distribution, realization) {\n",
    "  d(distribution)(realization) # return the PMF or density \n",
    "}\n",
    "\n",
    "Bern = function(probability_to_get_one) {\n",
    "  DiscreteDistribution(supp = 0:1, prob = c(1-probability_to_get_one, probability_to_get_one))\n",
    "}\n",
    "\n",
    "## Key functions called by simPPLe programs\n",
    "\n",
    "# Use simulate(distribution) for unobserved random variables\n",
    "simulate <- function(distribution) {\n",
    "  r(distribution)(1) # sample once from the given distribution\n",
    "}\n",
    "\n",
    "observe = function(realization, distribution) {\n",
    "  # `<<-` lets us modify variables that live in the global scope from inside a function\n",
    "  weight <<- weight * p(distribution, realization) \n",
    "  observations <<- c(observations, realization)\n",
    "}"
   ]
  }
 ],
 "metadata": {
  "kernelspec": {
   "display_name": "R",
   "language": "R",
   "name": "ir"
  },
  "language_info": {
   "codemirror_mode": "r",
   "file_extension": ".r",
   "mimetype": "text/x-r-source",
   "name": "R",
   "pygments_lexer": "r",
   "version": "4.3.2"
  }
 },
 "nbformat": 4,
 "nbformat_minor": 2
}
