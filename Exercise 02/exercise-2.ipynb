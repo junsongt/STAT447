{
 "cells": [
  {
   "cell_type": "code",
   "execution_count": 8,
   "metadata": {
    "vscode": {
     "languageId": "r"
    }
   },
   "outputs": [
    {
     "name": "stderr",
     "output_type": "stream",
     "text": [
      "Warning message:\n",
      "\"package 'extraDistr' was built under R version 4.3.3\"\n"
     ]
    }
   ],
   "source": [
    "library(extraDistr)\n",
    "set.seed(2024)\n",
    "K = 20"
   ]
  },
  {
   "cell_type": "code",
   "execution_count": 9,
   "metadata": {
    "vscode": {
     "languageId": "r"
    }
   },
   "outputs": [
    {
     "data": {
      "text/html": [
       "<style>\n",
       ".list-inline {list-style: none; margin:0; padding: 0}\n",
       ".list-inline>li {display: inline-block}\n",
       ".list-inline>li:not(:last-child)::after {content: \"\\00b7\"; padding: 0 .5ex}\n",
       "</style>\n",
       "<ol class=list-inline><li>0</li><li>0.0475</li><li>0.09</li><li>0.1275</li><li>0.16</li><li>0.1875</li><li>0.21</li><li>0.2275</li><li>0.24</li><li>0.2475</li><li>0.25</li><li>0.2475</li><li>0.24</li><li>0.2275</li><li>0.21</li><li>0.1875</li><li>0.16</li><li>0.1275</li><li>0.09</li><li>0.0475</li><li>0</li></ol>\n"
      ],
      "text/latex": [
       "\\begin{enumerate*}\n",
       "\\item 0\n",
       "\\item 0.0475\n",
       "\\item 0.09\n",
       "\\item 0.1275\n",
       "\\item 0.16\n",
       "\\item 0.1875\n",
       "\\item 0.21\n",
       "\\item 0.2275\n",
       "\\item 0.24\n",
       "\\item 0.2475\n",
       "\\item 0.25\n",
       "\\item 0.2475\n",
       "\\item 0.24\n",
       "\\item 0.2275\n",
       "\\item 0.21\n",
       "\\item 0.1875\n",
       "\\item 0.16\n",
       "\\item 0.1275\n",
       "\\item 0.09\n",
       "\\item 0.0475\n",
       "\\item 0\n",
       "\\end{enumerate*}\n"
      ],
      "text/markdown": [
       "1. 0\n",
       "2. 0.0475\n",
       "3. 0.09\n",
       "4. 0.1275\n",
       "5. 0.16\n",
       "6. 0.1875\n",
       "7. 0.21\n",
       "8. 0.2275\n",
       "9. 0.24\n",
       "10. 0.2475\n",
       "11. 0.25\n",
       "12. 0.2475\n",
       "13. 0.24\n",
       "14. 0.2275\n",
       "15. 0.21\n",
       "16. 0.1875\n",
       "17. 0.16\n",
       "18. 0.1275\n",
       "19. 0.09\n",
       "20. 0.0475\n",
       "21. 0\n",
       "\n",
       "\n"
      ],
      "text/plain": [
       " [1] 0.0000 0.0475 0.0900 0.1275 0.1600 0.1875 0.2100 0.2275 0.2400 0.2475\n",
       "[11] 0.2500 0.2475 0.2400 0.2275 0.2100 0.1875 0.1600 0.1275 0.0900 0.0475\n",
       "[21] 0.0000"
      ]
     },
     "metadata": {},
     "output_type": "display_data"
    },
    {
     "data": {
      "text/html": [
       "<style>\n",
       ".list-inline {list-style: none; margin:0; padding: 0}\n",
       ".list-inline>li {display: inline-block}\n",
       ".list-inline>li:not(:last-child)::after {content: \"\\00b7\"; padding: 0 .5ex}\n",
       "</style>\n",
       "<ol class=list-inline><li>0</li><li>0.05</li><li>0.1</li><li>0.15</li><li>0.2</li><li>0.25</li><li>0.3</li><li>0.35</li><li>0.4</li><li>0.45</li><li>0.5</li><li>0.55</li><li>0.6</li><li>0.65</li><li>0.7</li><li>0.75</li><li>0.8</li><li>0.85</li><li>0.9</li><li>0.95</li><li>1</li></ol>\n"
      ],
      "text/latex": [
       "\\begin{enumerate*}\n",
       "\\item 0\n",
       "\\item 0.05\n",
       "\\item 0.1\n",
       "\\item 0.15\n",
       "\\item 0.2\n",
       "\\item 0.25\n",
       "\\item 0.3\n",
       "\\item 0.35\n",
       "\\item 0.4\n",
       "\\item 0.45\n",
       "\\item 0.5\n",
       "\\item 0.55\n",
       "\\item 0.6\n",
       "\\item 0.65\n",
       "\\item 0.7\n",
       "\\item 0.75\n",
       "\\item 0.8\n",
       "\\item 0.85\n",
       "\\item 0.9\n",
       "\\item 0.95\n",
       "\\item 1\n",
       "\\end{enumerate*}\n"
      ],
      "text/markdown": [
       "1. 0\n",
       "2. 0.05\n",
       "3. 0.1\n",
       "4. 0.15\n",
       "5. 0.2\n",
       "6. 0.25\n",
       "7. 0.3\n",
       "8. 0.35\n",
       "9. 0.4\n",
       "10. 0.45\n",
       "11. 0.5\n",
       "12. 0.55\n",
       "13. 0.6\n",
       "14. 0.65\n",
       "15. 0.7\n",
       "16. 0.75\n",
       "17. 0.8\n",
       "18. 0.85\n",
       "19. 0.9\n",
       "20. 0.95\n",
       "21. 1\n",
       "\n",
       "\n"
      ],
      "text/plain": [
       " [1] 0.00 0.05 0.10 0.15 0.20 0.25 0.30 0.35 0.40 0.45 0.50 0.55 0.60 0.65 0.70\n",
       "[16] 0.75 0.80 0.85 0.90 0.95 1.00"
      ]
     },
     "metadata": {},
     "output_type": "display_data"
    },
    {
     "data": {
      "image/png": "[encoded data removed]",
      "text/plain": [
       "Plot with title \"prior pmf\""
      ]
     },
     "metadata": {
      "image/png": {
       "height": 420,
       "width": 420
      }
     },
     "output_type": "display_data"
    }
   ],
   "source": [
    "# Q2\n",
    "prior_probabilities = NULL\n",
    "realizations = NULL\n",
    "for (k in (0 : K)) {\n",
    "    prior_probabilities = c(prior_probabilities, (k/K)*(1-k/K))\n",
    "    realizations = c(realizations, k/K)\n",
    "}\n",
    "prior_probabilities\n",
    "realizations\n",
    "plot(realizations, prior_probabilities, type=\"h\", main = \"prior pmf\")"
   ]
  },
  {
   "cell_type": "code",
   "execution_count": 10,
   "metadata": {
    "vscode": {
     "languageId": "r"
    }
   },
   "outputs": [
    {
     "data": {
      "text/html": [
       "<style>\n",
       ".list-inline {list-style: none; margin:0; padding: 0}\n",
       ".list-inline>li {display: inline-block}\n",
       ".list-inline>li:not(:last-child)::after {content: \"\\00b7\"; padding: 0 .5ex}\n",
       "</style>\n",
       "<ol class=list-inline><li>0</li><li>8.96217960207923e-06</li><li>0.00013584777502099</li><li>0.00064952217431911</li><li>0.00193205724474297</li><li>0.0044221280931312</li><li>0.00855840982632239</li><li>0.0147229743115631</li><li>0.0231846869369157</li><li>0.0340426033716663</li><li>0.0471693663267328</li><li>0.0621546023150725</li><li>0.0782483184120904</li><li>0.094304299016047</li><li>0.108723502608466</li><li>0.119397458514542</li><li>0.12365166366355</li><li>0.118188979349251</li><li>0.099033027990302</li><li>0.0614715898906615</li><li>0</li></ol>\n"
      ],
      "text/latex": [
       "\\begin{enumerate*}\n",
       "\\item 0\n",
       "\\item 8.96217960207923e-06\n",
       "\\item 0.00013584777502099\n",
       "\\item 0.00064952217431911\n",
       "\\item 0.00193205724474297\n",
       "\\item 0.0044221280931312\n",
       "\\item 0.00855840982632239\n",
       "\\item 0.0147229743115631\n",
       "\\item 0.0231846869369157\n",
       "\\item 0.0340426033716663\n",
       "\\item 0.0471693663267328\n",
       "\\item 0.0621546023150725\n",
       "\\item 0.0782483184120904\n",
       "\\item 0.094304299016047\n",
       "\\item 0.108723502608466\n",
       "\\item 0.119397458514542\n",
       "\\item 0.12365166366355\n",
       "\\item 0.118188979349251\n",
       "\\item 0.099033027990302\n",
       "\\item 0.0614715898906615\n",
       "\\item 0\n",
       "\\end{enumerate*}\n"
      ],
      "text/markdown": [
       "1. 0\n",
       "2. 8.96217960207923e-06\n",
       "3. 0.00013584777502099\n",
       "4. 0.00064952217431911\n",
       "5. 0.00193205724474297\n",
       "6. 0.0044221280931312\n",
       "7. 0.00855840982632239\n",
       "8. 0.0147229743115631\n",
       "9. 0.0231846869369157\n",
       "10. 0.0340426033716663\n",
       "11. 0.0471693663267328\n",
       "12. 0.0621546023150725\n",
       "13. 0.0782483184120904\n",
       "14. 0.094304299016047\n",
       "15. 0.108723502608466\n",
       "16. 0.119397458514542\n",
       "17. 0.12365166366355\n",
       "18. 0.118188979349251\n",
       "19. 0.099033027990302\n",
       "20. 0.0614715898906615\n",
       "21. 0\n",
       "\n",
       "\n"
      ],
      "text/plain": [
       " [1] 0.000000e+00 8.962180e-06 1.358478e-04 6.495222e-04 1.932057e-03\n",
       " [6] 4.422128e-03 8.558410e-03 1.472297e-02 2.318469e-02 3.404260e-02\n",
       "[11] 4.716937e-02 6.215460e-02 7.824832e-02 9.430430e-02 1.087235e-01\n",
       "[16] 1.193975e-01 1.236517e-01 1.181890e-01 9.903303e-02 6.147159e-02\n",
       "[21] 0.000000e+00"
      ]
     },
     "metadata": {},
     "output_type": "display_data"
    },
    {
     "data": {
      "image/png": "[encoded data removed]",
      "text/plain": [
       "Plot with title \"posterior pmf\""
      ]
     },
     "metadata": {
      "image/png": {
       "height": 420,
       "width": 420
      }
     },
     "output_type": "display_data"
    }
   ],
   "source": [
    "posterior_probabilities = NULL\n",
    "Z = 0\n",
    "for (k in (0 : K)) {\n",
    "    # likelihood = P(X = k/K) * P(Y = (1,1,1) | X = k/K)\n",
    "    likelihood = realizations[k+1]**3 * prior_probabilities[k+1]\n",
    "    Z = Z + likelihood\n",
    "    posterior_probabilities = c(posterior_probabilities, likelihood)\n",
    "}\n",
    "posterior_probabilities = posterior_probabilities / Z\n",
    "posterior_probabilities\n",
    "plot(realizations, posterior_probabilities, type = \"h\", main = \"posterior pmf\")"
   ]
  },
  {
   "cell_type": "code",
   "execution_count": 11,
   "metadata": {
    "vscode": {
     "languageId": "r"
    }
   },
   "outputs": [
    {
     "name": "stdout",
     "output_type": "stream",
     "text": [
      " [1] 0.000000e+00 8.962180e-06 1.358478e-04 6.495222e-04 1.932057e-03\n",
      " [6] 4.422128e-03 8.558410e-03 1.472297e-02 2.318469e-02 3.404260e-02\n",
      "[11] 4.716937e-02 6.215460e-02 7.824832e-02 9.430430e-02 1.087235e-01\n",
      "[16] 1.193975e-01 1.236517e-01 1.181890e-01 9.903303e-02 6.147159e-02\n",
      "[21] 0.000000e+00\n"
     ]
    }
   ],
   "source": [
    "print(posterior_probabilities)"
   ]
  },
  {
   "cell_type": "code",
   "execution_count": 4,
   "metadata": {
    "vscode": {
     "languageId": "r"
    }
   },
   "outputs": [
    {
     "data": {
      "text/html": [
       "0.712497759455099"
      ],
      "text/latex": [
       "0.712497759455099"
      ],
      "text/markdown": [
       "0.712497759455099"
      ],
      "text/plain": [
       "[1] 0.7124978"
      ]
     },
     "metadata": {},
     "output_type": "display_data"
    }
   ],
   "source": [
    "# posterior mean\n",
    "m = 0\n",
    "for (k in (0 : K)) {\n",
    "    x = realizations[k+1]\n",
    "    pi_k = posterior_probabilities[k+1]\n",
    "    m = m + x * pi_k\n",
    "}\n",
    "m"
   ]
  },
  {
   "cell_type": "code",
   "execution_count": 6,
   "metadata": {
    "vscode": {
     "languageId": "r"
    }
   },
   "outputs": [
    {
     "data": {
      "text/html": [
       "-26.7502240544901"
      ],
      "text/latex": [
       "-26.7502240544901"
      ],
      "text/markdown": [
       "-26.7502240544901"
      ],
      "text/plain": [
       "[1] -26.75022"
      ]
     },
     "metadata": {},
     "output_type": "display_data"
    }
   ],
   "source": [
    "loss = 2 * m - 98 * (1-m)\n",
    "loss"
   ]
  },
  {
   "cell_type": "code",
   "execution_count": null,
   "metadata": {
    "vscode": {
     "languageId": "r"
    }
   },
   "outputs": [
    {
     "name": "stdout",
     "output_type": "stream",
     "text": [
      "  0.12365166366355  0.119397458514542  0.118188979349251  0.108723502608466 \n",
      "                17                 16                 18                 15 \n",
      " 0.099033027990302  0.094304299016047 0.0782483184120904 0.0621546023150725 \n",
      "                19                 14                 13                 12 \n"
     ]
    }
   ],
   "source": [
    "# challenge question\n",
    "# signature: posteriors, threshold -> index set\n",
    "# overall complexity:\n",
    "# time: O(nlogn + 2n)\n",
    "# space: O(n)\n",
    "\n",
    "highest_prob_set = function(posterior_probabilities, alpha) {\n",
    "    n = length(posterior_probabilities)\n",
    "    # create hashmap that maps prob -> index\n",
    "    # time complexity O(n) and space complexity O(n)\n",
    "    dict = c()\n",
    "    for (i in (1:n)) {\n",
    "        # set k-v pair as (prob, index)\n",
    "        p = posterior_probabilities[i]\n",
    "        dict[as.character(p)] = i\n",
    "    }\n",
    "    # sort complexity: O(nlogn)\n",
    "    posterior_probabilities = sort(posterior_probabilities, decreasing = TRUE)\n",
    "\n",
    "    # linear search complexity: O(n)\n",
    "    j = 1\n",
    "    sum = 0\n",
    "    hps = NULL\n",
    "    while (j <= n && sum < alpha) {\n",
    "        p = posterior_probabilities[j]\n",
    "        hps = c(hps, dict[as.character(p)])\n",
    "        j = j + 1\n",
    "        sum = sum + p\n",
    "    }\n",
    "\n",
    "    return (hps)\n",
    "}\n",
    "\n",
    "print(highest_prob_set(posterior_probabilities = posterior_probabilities, alpha=0.75))"
   ]
  }
 ],
 "metadata": {
  "kernelspec": {
   "display_name": "R",
   "language": "R",
   "name": "ir"
  },
  "language_info": {
   "codemirror_mode": "r",
   "file_extension": ".r",
   "mimetype": "text/x-r-source",
   "name": "R",
   "pygments_lexer": "r",
   "version": "4.3.0"
  }
 },
 "nbformat": 4,
 "nbformat_minor": 2
}
