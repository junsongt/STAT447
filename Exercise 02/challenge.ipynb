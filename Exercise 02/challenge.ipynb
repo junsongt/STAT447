{
 "cells": [
  {
   "cell_type": "markdown",
   "metadata": {},
   "source": [
    "# challenge question"
   ]
  },
  {
   "cell_type": "code",
   "execution_count": 1,
   "metadata": {},
   "outputs": [],
   "source": [
    "import numpy as np\n",
    "from scipy import stats\n",
    "import matplotlib.pyplot as plt\n",
    "import math\n",
    "import heapq\n",
    "import time"
   ]
  },
  {
   "cell_type": "markdown",
   "metadata": {},
   "source": [
    "# Method 01 (natural solution by sorting the list)\n",
    "### signature: posteriors, threshold -> index set\n",
    "### overall complexity: time O(nlogn + 2n); space O(n)"
   ]
  },
  {
   "cell_type": "code",
   "execution_count": 2,
   "metadata": {},
   "outputs": [],
   "source": [
    "def highest_prob_set(posterior_probabilities, alpha):\n",
    "    n = len(posterior_probabilities)\n",
    "    # create hashmap that maps prob -> index\n",
    "    # time complexity O(n) and space complexity O(n)\n",
    "    dict = {}\n",
    "    for i in range(n):\n",
    "        # set k-v pair as (prob, index)\n",
    "        p = posterior_probabilities[i]\n",
    "        dict[p] = i\n",
    "    # # sort complexity: O(nlogn)\n",
    "    posterior_probabilities.sort(reverse=True)\n",
    "    # linear search complexity: O(n)\n",
    "    j = 0\n",
    "    sum = 0\n",
    "    hps = []\n",
    "    while j < n and sum < alpha:\n",
    "        p = posterior_probabilities[j]\n",
    "        hps.append(dict[p])\n",
    "        j += 1\n",
    "        sum += p\n",
    "\n",
    "    return (hps)"
   ]
  },
  {
   "cell_type": "code",
   "execution_count": 8,
   "metadata": {},
   "outputs": [
    {
     "name": "stdout",
     "output_type": "stream",
     "text": [
      "[16, 15, 17, 14, 18, 13, 12, 11]\n",
      "sorting takes: 0.0006986000225879252 sec\n"
     ]
    }
   ],
   "source": [
    "# test\n",
    "posterior_probabilities = [\n",
    "0.000000e+00, 8.962180e-06, 1.358478e-04, 6.495222e-04, 1.932057e-03,\n",
    "4.422128e-03, 8.558410e-03, 1.472297e-02, 2.318469e-02, 3.404260e-02, \n",
    "4.716937e-02, 6.215460e-02, 7.824832e-02, 9.430430e-02, 1.087235e-01, \n",
    "1.193975e-01, 1.236517e-01, 1.181890e-01, 9.903303e-02, 6.147159e-02,\n",
    "0.000000e+00]\n",
    "\n",
    "start = time.perf_counter()\n",
    "print(highest_prob_set(posterior_probabilities, alpha=0.75))\n",
    "end = time.perf_counter()\n",
    "print(\"sorting takes:\", end-start, \"sec\")"
   ]
  },
  {
   "cell_type": "markdown",
   "metadata": {},
   "source": [
    "# method 02: using priority queue (max heap)\n",
    "### signature: posteriors, threshold -> index set\n",
    "### overall complexity: ime: at worst O(nlogn + n); space: O(n)"
   ]
  },
  {
   "cell_type": "code",
   "execution_count": 9,
   "metadata": {},
   "outputs": [],
   "source": [
    "def highest_prob_set(posterior_probabilities, alpha):\n",
    "    # Max-heap requires negation because Python's heapq is a min-heap\n",
    "    n = len(posterior_probabilities)\n",
    "    # building heap takes O(n)\n",
    "    max_heap = []\n",
    "    for i in range(n):\n",
    "        max_heap.append((-posterior_probabilities[i], i))\n",
    "    heapq.heapify(max_heap)  # convert into a heap\n",
    "    sum = 0\n",
    "    hps = []\n",
    "    j = 0\n",
    "    while j < n and sum < alpha:\n",
    "        val, idx = heapq.heappop(max_heap)  # Extract max element takes O(logn)\n",
    "        sum += -val  # Add the original prob\n",
    "        hps.append(idx)\n",
    "        j += 1\n",
    "\n",
    "    return hps"
   ]
  },
  {
   "cell_type": "code",
   "execution_count": 14,
   "metadata": {},
   "outputs": [
    {
     "name": "stdout",
     "output_type": "stream",
     "text": [
      "[16, 15, 17, 14, 18, 13, 12, 11]\n",
      "max heap takes: 0.00029170000925660133 sec\n"
     ]
    }
   ],
   "source": [
    "# test\n",
    "posterior_probabilities = [\n",
    "0.000000e+00, 8.962180e-06, 1.358478e-04, 6.495222e-04, 1.932057e-03,\n",
    "4.422128e-03, 8.558410e-03, 1.472297e-02, 2.318469e-02, 3.404260e-02, \n",
    "4.716937e-02, 6.215460e-02, 7.824832e-02, 9.430430e-02, 1.087235e-01, \n",
    "1.193975e-01, 1.236517e-01, 1.181890e-01, 9.903303e-02, 6.147159e-02,\n",
    "0.000000e+00]\n",
    "\n",
    "start = time.perf_counter()\n",
    "print(highest_prob_set(posterior_probabilities, alpha=0.75))\n",
    "end = time.perf_counter()\n",
    "print(\"max heap takes:\", end-start, \"sec\")\n"
   ]
  }
 ],
 "metadata": {
  "kernelspec": {
   "display_name": "Python 3",
   "language": "python",
   "name": "python3"
  },
  "language_info": {
   "codemirror_mode": {
    "name": "ipython",
    "version": 3
   },
   "file_extension": ".py",
   "mimetype": "text/x-python",
   "name": "python",
   "nbconvert_exporter": "python",
   "pygments_lexer": "ipython3",
   "version": "3.11.9"
  }
 },
 "nbformat": 4,
 "nbformat_minor": 2
}
